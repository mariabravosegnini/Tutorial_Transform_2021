{
 "cells": [
  {
   "cell_type": "raw",
   "metadata": {},
   "source": []
  },
  {
   "cell_type": "markdown",
   "metadata": {
    "iooxa": {
     "id": {
      "block": "ljl07JNYSrIXE70uWYO0",
      "project": "anKPrTxY08dBACBwy7Ui",
      "version": 1
     }
    }
   },
   "source": [
    "## UTAH FORGE PROJECT'S MISSION\n",
    "\n",
    "Enable cutting-edge research and drilling and technology testing, as well as to allow scientists to identify a replicable, commercial pathway to EGS. In addition to the site itself, the FORGE effort will include a robust instrumentation, data collection, and data dissemination component to capture and share data and activities occurring at FORGE in real time. The innovative research, coupled with an equally-innovative collaboration and management platform, is truly a first of its kind endeavor. More details here https://utahforge.com/\n",
    "\n",
    "#### The data used in this repository comes from the public data provided by Utah FORGE https://gdr.openei.org/submissions/1111\n",
    "\n",
    "##### Some functions adapted from https://sainosmichelle.github.io/elements.html\n",
    "\n",
    "#### Diana Acero Allard (https://github.com/dianaceroallard) and Maria Cecilia Bravo (https://github.com/mariabravosegnini) are the main authors of this notebook and it is adapted for a python demonstration in Transform21 - Software Undergound. "
   ]
  },
  {
   "cell_type": "code",
   "execution_count": 19,
   "metadata": {
    "iooxa": {
     "id": {
      "block": "bCoQ217Se5IoWzAvnM6x",
      "project": "anKPrTxY08dBACBwy7Ui",
      "version": 1
     },
     "outputId": null
    }
   },
   "outputs": [],
   "source": [
    "import numpy as np\n",
    "import pandas as pd\n",
    "import matplotlib.pyplot as plt\n",
    "import lasio\n",
    "import seaborn as sns\n",
    "import warnings\n",
    "warnings.filterwarnings('ignore')\n",
    "%matplotlib inline"
   ]
  },
  {
   "cell_type": "markdown",
   "metadata": {
    "iooxa": {
     "id": {
      "block": "NJ3M1nBKUzM2AXbRaoeZ",
      "project": "anKPrTxY08dBACBwy7Ui",
      "version": 1
     }
    }
   },
   "source": [
    "### Read 58-32 well logs in feet"
   ]
  },
  {
   "cell_type": "code",
   "execution_count": 20,
   "metadata": {
    "iooxa": {
     "id": {
      "block": "Z6bDDyAUxa2TGPCk6ENW",
      "project": "anKPrTxY08dBACBwy7Ui",
      "version": 1
     },
     "outputId": null
    }
   },
   "outputs": [],
   "source": [
    "#Reading a .las file\n",
    "main = lasio.read('../alldata/58-32_main.las')\n"
   ]
  },
  {
   "cell_type": "markdown",
   "metadata": {
    "iooxa": {
     "id": {
      "block": "dAR1AgfP4yyfzpXCRpNS",
      "project": "anKPrTxY08dBACBwy7Ui",
      "version": 1
     }
    }
   },
   "source": [
    "### Using Pandas to crete a DataFrame\n",
    "the DataFrames are two-dimensional tables with row and columns that can be easily edited and manipulated. i.e change size, call elements from within the table, perform operations, among other usages.\n"
   ]
  },
  {
   "cell_type": "code",
   "execution_count": 21,
   "metadata": {
    "iooxa": {
     "id": {
      "block": "uUC9Yb53FupxOfbextPD",
      "project": "anKPrTxY08dBACBwy7Ui",
      "version": 1
     },
     "outputId": {
      "block": "kdODK2dt28SaDB27bDxB",
      "project": "anKPrTxY08dBACBwy7Ui",
      "version": 1
     }
    }
   },
   "outputs": [
    {
     "data": {
      "text/html": [
       "<div>\n",
       "<style scoped>\n",
       "    .dataframe tbody tr th:only-of-type {\n",
       "        vertical-align: middle;\n",
       "    }\n",
       "\n",
       "    .dataframe tbody tr th {\n",
       "        vertical-align: top;\n",
       "    }\n",
       "\n",
       "    .dataframe thead th {\n",
       "        text-align: right;\n",
       "    }\n",
       "</style>\n",
       "<table border=\"1\" class=\"dataframe\">\n",
       "  <thead>\n",
       "    <tr style=\"text-align: right;\">\n",
       "      <th></th>\n",
       "      <th>AF10</th>\n",
       "      <th>AF20</th>\n",
       "      <th>AF30</th>\n",
       "      <th>AF60</th>\n",
       "      <th>AF90</th>\n",
       "      <th>AO10</th>\n",
       "      <th>AO20</th>\n",
       "      <th>AO30</th>\n",
       "      <th>AO60</th>\n",
       "      <th>AO90</th>\n",
       "      <th>...</th>\n",
       "      <th>SPAR</th>\n",
       "      <th>STIT</th>\n",
       "      <th>TENS</th>\n",
       "      <th>TNPH</th>\n",
       "      <th>HTNP_SAN</th>\n",
       "      <th>ATCO10</th>\n",
       "      <th>ATCO20</th>\n",
       "      <th>ATCO30</th>\n",
       "      <th>ATCO60</th>\n",
       "      <th>ATCO90</th>\n",
       "    </tr>\n",
       "    <tr>\n",
       "      <th>DEPT</th>\n",
       "      <th></th>\n",
       "      <th></th>\n",
       "      <th></th>\n",
       "      <th></th>\n",
       "      <th></th>\n",
       "      <th></th>\n",
       "      <th></th>\n",
       "      <th></th>\n",
       "      <th></th>\n",
       "      <th></th>\n",
       "      <th></th>\n",
       "      <th></th>\n",
       "      <th></th>\n",
       "      <th></th>\n",
       "      <th></th>\n",
       "      <th></th>\n",
       "      <th></th>\n",
       "      <th></th>\n",
       "      <th></th>\n",
       "      <th></th>\n",
       "      <th></th>\n",
       "    </tr>\n",
       "  </thead>\n",
       "  <tbody>\n",
       "    <tr>\n",
       "      <th>10.5</th>\n",
       "      <td>1.104</td>\n",
       "      <td>0.4224</td>\n",
       "      <td>20.9881</td>\n",
       "      <td>1950.0</td>\n",
       "      <td>44.9381</td>\n",
       "      <td>1.1341</td>\n",
       "      <td>0.5586</td>\n",
       "      <td>2.1295</td>\n",
       "      <td>1.7824</td>\n",
       "      <td>2.5706</td>\n",
       "      <td>...</td>\n",
       "      <td>NaN</td>\n",
       "      <td>0.0</td>\n",
       "      <td>940.9999</td>\n",
       "      <td>NaN</td>\n",
       "      <td>0.3744</td>\n",
       "      <td>840.4879</td>\n",
       "      <td>2040.422</td>\n",
       "      <td>35.6775</td>\n",
       "      <td>14.1442</td>\n",
       "      <td>50.6664</td>\n",
       "    </tr>\n",
       "    <tr>\n",
       "      <th>11.0</th>\n",
       "      <td>1.104</td>\n",
       "      <td>0.4224</td>\n",
       "      <td>20.9881</td>\n",
       "      <td>1950.0</td>\n",
       "      <td>44.9381</td>\n",
       "      <td>1.1341</td>\n",
       "      <td>0.5586</td>\n",
       "      <td>2.1295</td>\n",
       "      <td>1.7824</td>\n",
       "      <td>2.5706</td>\n",
       "      <td>...</td>\n",
       "      <td>NaN</td>\n",
       "      <td>0.0</td>\n",
       "      <td>940.9999</td>\n",
       "      <td>NaN</td>\n",
       "      <td>0.3744</td>\n",
       "      <td>840.4879</td>\n",
       "      <td>2040.422</td>\n",
       "      <td>35.6775</td>\n",
       "      <td>14.1442</td>\n",
       "      <td>50.6664</td>\n",
       "    </tr>\n",
       "    <tr>\n",
       "      <th>11.5</th>\n",
       "      <td>1.104</td>\n",
       "      <td>0.4224</td>\n",
       "      <td>20.9881</td>\n",
       "      <td>1950.0</td>\n",
       "      <td>44.9381</td>\n",
       "      <td>1.1341</td>\n",
       "      <td>0.5586</td>\n",
       "      <td>2.1295</td>\n",
       "      <td>1.7824</td>\n",
       "      <td>2.5706</td>\n",
       "      <td>...</td>\n",
       "      <td>NaN</td>\n",
       "      <td>0.0</td>\n",
       "      <td>940.9999</td>\n",
       "      <td>NaN</td>\n",
       "      <td>0.3744</td>\n",
       "      <td>840.4879</td>\n",
       "      <td>2040.422</td>\n",
       "      <td>35.6775</td>\n",
       "      <td>14.1442</td>\n",
       "      <td>50.6664</td>\n",
       "    </tr>\n",
       "    <tr>\n",
       "      <th>12.0</th>\n",
       "      <td>1.104</td>\n",
       "      <td>0.4224</td>\n",
       "      <td>20.9881</td>\n",
       "      <td>1950.0</td>\n",
       "      <td>44.9381</td>\n",
       "      <td>1.1341</td>\n",
       "      <td>0.5586</td>\n",
       "      <td>2.1295</td>\n",
       "      <td>1.7824</td>\n",
       "      <td>2.5706</td>\n",
       "      <td>...</td>\n",
       "      <td>NaN</td>\n",
       "      <td>0.0</td>\n",
       "      <td>940.9999</td>\n",
       "      <td>NaN</td>\n",
       "      <td>0.3744</td>\n",
       "      <td>840.4879</td>\n",
       "      <td>2040.422</td>\n",
       "      <td>35.6775</td>\n",
       "      <td>14.1442</td>\n",
       "      <td>50.6664</td>\n",
       "    </tr>\n",
       "    <tr>\n",
       "      <th>12.5</th>\n",
       "      <td>1.104</td>\n",
       "      <td>0.4224</td>\n",
       "      <td>20.9881</td>\n",
       "      <td>1950.0</td>\n",
       "      <td>44.9381</td>\n",
       "      <td>1.1341</td>\n",
       "      <td>0.5586</td>\n",
       "      <td>2.1295</td>\n",
       "      <td>1.7824</td>\n",
       "      <td>2.5706</td>\n",
       "      <td>...</td>\n",
       "      <td>NaN</td>\n",
       "      <td>0.0</td>\n",
       "      <td>940.9999</td>\n",
       "      <td>NaN</td>\n",
       "      <td>0.3744</td>\n",
       "      <td>840.4879</td>\n",
       "      <td>2040.422</td>\n",
       "      <td>35.6775</td>\n",
       "      <td>14.1442</td>\n",
       "      <td>50.6664</td>\n",
       "    </tr>\n",
       "  </tbody>\n",
       "</table>\n",
       "<p>5 rows × 61 columns</p>\n",
       "</div>"
      ],
      "text/plain": [
       "       AF10    AF20     AF30    AF60     AF90    AO10    AO20    AO30    AO60  \\\n",
       "DEPT                                                                            \n",
       "10.5  1.104  0.4224  20.9881  1950.0  44.9381  1.1341  0.5586  2.1295  1.7824   \n",
       "11.0  1.104  0.4224  20.9881  1950.0  44.9381  1.1341  0.5586  2.1295  1.7824   \n",
       "11.5  1.104  0.4224  20.9881  1950.0  44.9381  1.1341  0.5586  2.1295  1.7824   \n",
       "12.0  1.104  0.4224  20.9881  1950.0  44.9381  1.1341  0.5586  2.1295  1.7824   \n",
       "12.5  1.104  0.4224  20.9881  1950.0  44.9381  1.1341  0.5586  2.1295  1.7824   \n",
       "\n",
       "        AO90  ...  SPAR  STIT      TENS  TNPH  HTNP_SAN    ATCO10    ATCO20  \\\n",
       "DEPT          ...                                                             \n",
       "10.5  2.5706  ...   NaN   0.0  940.9999   NaN    0.3744  840.4879  2040.422   \n",
       "11.0  2.5706  ...   NaN   0.0  940.9999   NaN    0.3744  840.4879  2040.422   \n",
       "11.5  2.5706  ...   NaN   0.0  940.9999   NaN    0.3744  840.4879  2040.422   \n",
       "12.0  2.5706  ...   NaN   0.0  940.9999   NaN    0.3744  840.4879  2040.422   \n",
       "12.5  2.5706  ...   NaN   0.0  940.9999   NaN    0.3744  840.4879  2040.422   \n",
       "\n",
       "       ATCO30   ATCO60   ATCO90  \n",
       "DEPT                             \n",
       "10.5  35.6775  14.1442  50.6664  \n",
       "11.0  35.6775  14.1442  50.6664  \n",
       "11.5  35.6775  14.1442  50.6664  \n",
       "12.0  35.6775  14.1442  50.6664  \n",
       "12.5  35.6775  14.1442  50.6664  \n",
       "\n",
       "[5 rows x 61 columns]"
      ]
     },
     "execution_count": 21,
     "metadata": {},
     "output_type": "execute_result"
    }
   ],
   "source": [
    "#Create DataFrame line command from what it was read with Lasio\n",
    "df_data = main.df()\n",
    "\n",
    "#Printing the first 5 rows of the data frame with the header of the columns (if any) \n",
    "df_data.head(5)"
   ]
  },
  {
   "cell_type": "markdown",
   "metadata": {
    "iooxa": {
     "id": {
      "block": "2VKFlgHeGkY23wUHsEma",
      "project": "anKPrTxY08dBACBwy7Ui",
      "version": 1
     }
    }
   },
   "source": [
    "### Other operations within the DataFrame "
   ]
  },
  {
   "cell_type": "code",
   "execution_count": 22,
   "metadata": {
    "iooxa": {
     "id": {
      "block": "lctcGyr7MQ00gq8UQuR3",
      "project": "anKPrTxY08dBACBwy7Ui",
      "version": 1
     },
     "outputId": {
      "block": "VvOcxTeZq6tC7DEJoQ5X",
      "project": "anKPrTxY08dBACBwy7Ui",
      "version": 1
     }
    }
   },
   "outputs": [
    {
     "data": {
      "text/html": [
       "<div>\n",
       "<style scoped>\n",
       "    .dataframe tbody tr th:only-of-type {\n",
       "        vertical-align: middle;\n",
       "    }\n",
       "\n",
       "    .dataframe tbody tr th {\n",
       "        vertical-align: top;\n",
       "    }\n",
       "\n",
       "    .dataframe thead th {\n",
       "        text-align: right;\n",
       "    }\n",
       "</style>\n",
       "<table border=\"1\" class=\"dataframe\">\n",
       "  <thead>\n",
       "    <tr style=\"text-align: right;\">\n",
       "      <th></th>\n",
       "      <th>AT30</th>\n",
       "      <th>AT60</th>\n",
       "      <th>AT90</th>\n",
       "      <th>GR</th>\n",
       "      <th>SP</th>\n",
       "    </tr>\n",
       "    <tr>\n",
       "      <th>DEPT</th>\n",
       "      <th></th>\n",
       "      <th></th>\n",
       "      <th></th>\n",
       "      <th></th>\n",
       "      <th></th>\n",
       "    </tr>\n",
       "  </thead>\n",
       "  <tbody>\n",
       "    <tr>\n",
       "      <th>10.5</th>\n",
       "      <td>28.0289</td>\n",
       "      <td>70.7004</td>\n",
       "      <td>19.7369</td>\n",
       "      <td>160.0384</td>\n",
       "      <td>NaN</td>\n",
       "    </tr>\n",
       "    <tr>\n",
       "      <th>11.0</th>\n",
       "      <td>28.0289</td>\n",
       "      <td>70.7004</td>\n",
       "      <td>19.7369</td>\n",
       "      <td>160.0384</td>\n",
       "      <td>NaN</td>\n",
       "    </tr>\n",
       "    <tr>\n",
       "      <th>11.5</th>\n",
       "      <td>28.0289</td>\n",
       "      <td>70.7004</td>\n",
       "      <td>19.7369</td>\n",
       "      <td>160.0384</td>\n",
       "      <td>NaN</td>\n",
       "    </tr>\n",
       "    <tr>\n",
       "      <th>12.0</th>\n",
       "      <td>28.0289</td>\n",
       "      <td>70.7004</td>\n",
       "      <td>19.7369</td>\n",
       "      <td>160.0384</td>\n",
       "      <td>NaN</td>\n",
       "    </tr>\n",
       "    <tr>\n",
       "      <th>12.5</th>\n",
       "      <td>28.0289</td>\n",
       "      <td>70.7004</td>\n",
       "      <td>19.7369</td>\n",
       "      <td>160.0384</td>\n",
       "      <td>NaN</td>\n",
       "    </tr>\n",
       "  </tbody>\n",
       "</table>\n",
       "</div>"
      ],
      "text/plain": [
       "         AT30     AT60     AT90        GR  SP\n",
       "DEPT                                         \n",
       "10.5  28.0289  70.7004  19.7369  160.0384 NaN\n",
       "11.0  28.0289  70.7004  19.7369  160.0384 NaN\n",
       "11.5  28.0289  70.7004  19.7369  160.0384 NaN\n",
       "12.0  28.0289  70.7004  19.7369  160.0384 NaN\n",
       "12.5  28.0289  70.7004  19.7369  160.0384 NaN"
      ]
     },
     "execution_count": 22,
     "metadata": {},
     "output_type": "execute_result"
    }
   ],
   "source": [
    "#Delete columns - as many or as few as you need\n",
    "df_data_small = df_data.drop(['AF10', 'AF20','AF30','AF60','AF90','AO20','AO30','AO60','AO90','SPAR',\n",
    "                              'AT10','AT20','AO10','AORT','AORX','CDF','CFTC','CNTC','CTEM',\n",
    "                              'DNPH','DPHZ','DSOZ','ECGR','ED','GDEV','DCAL','GR_EDTC','GTEM','HCAL',\n",
    "                              'HDRA','HDRB','HGR','HMIN','HMNO','HNPO','HPRA','HTNP','ND','NPHI','NPOR',\n",
    "                              'PEFZ','PXND_HILT','RHOZ','RSOZ','RWA_HILT','RXO8','RXOZ',\n",
    "                              'STIT','TENS','TNPH','HTNP_SAN','ATCO10','ATCO20','ATCO30','ATCO60',\n",
    "                              'ATCO90'],axis=1)\n",
    "df_data_small.head(5)"
   ]
  },
  {
   "cell_type": "code",
   "execution_count": 23,
   "metadata": {},
   "outputs": [
    {
     "data": {
      "text/html": [
       "<div>\n",
       "<style scoped>\n",
       "    .dataframe tbody tr th:only-of-type {\n",
       "        vertical-align: middle;\n",
       "    }\n",
       "\n",
       "    .dataframe tbody tr th {\n",
       "        vertical-align: top;\n",
       "    }\n",
       "\n",
       "    .dataframe thead th {\n",
       "        text-align: right;\n",
       "    }\n",
       "</style>\n",
       "<table border=\"1\" class=\"dataframe\">\n",
       "  <thead>\n",
       "    <tr style=\"text-align: right;\">\n",
       "      <th></th>\n",
       "      <th>AT30</th>\n",
       "      <th>AT60</th>\n",
       "      <th>AT90</th>\n",
       "      <th>GR</th>\n",
       "      <th>SP</th>\n",
       "    </tr>\n",
       "    <tr>\n",
       "      <th>DEPT</th>\n",
       "      <th></th>\n",
       "      <th></th>\n",
       "      <th></th>\n",
       "      <th></th>\n",
       "      <th></th>\n",
       "    </tr>\n",
       "  </thead>\n",
       "  <tbody>\n",
       "    <tr>\n",
       "      <th>10.5</th>\n",
       "      <td>28.0289</td>\n",
       "      <td>70.7004</td>\n",
       "      <td>19.7369</td>\n",
       "      <td>NaN</td>\n",
       "      <td>NaN</td>\n",
       "    </tr>\n",
       "    <tr>\n",
       "      <th>11.0</th>\n",
       "      <td>28.0289</td>\n",
       "      <td>70.7004</td>\n",
       "      <td>19.7369</td>\n",
       "      <td>NaN</td>\n",
       "      <td>NaN</td>\n",
       "    </tr>\n",
       "    <tr>\n",
       "      <th>11.5</th>\n",
       "      <td>28.0289</td>\n",
       "      <td>70.7004</td>\n",
       "      <td>19.7369</td>\n",
       "      <td>NaN</td>\n",
       "      <td>NaN</td>\n",
       "    </tr>\n",
       "    <tr>\n",
       "      <th>12.0</th>\n",
       "      <td>28.0289</td>\n",
       "      <td>70.7004</td>\n",
       "      <td>19.7369</td>\n",
       "      <td>NaN</td>\n",
       "      <td>NaN</td>\n",
       "    </tr>\n",
       "    <tr>\n",
       "      <th>12.5</th>\n",
       "      <td>28.0289</td>\n",
       "      <td>70.7004</td>\n",
       "      <td>19.7369</td>\n",
       "      <td>NaN</td>\n",
       "      <td>NaN</td>\n",
       "    </tr>\n",
       "  </tbody>\n",
       "</table>\n",
       "</div>"
      ],
      "text/plain": [
       "         AT30     AT60     AT90   GR  SP\n",
       "DEPT                                    \n",
       "10.5  28.0289  70.7004  19.7369  NaN NaN\n",
       "11.0  28.0289  70.7004  19.7369  NaN NaN\n",
       "11.5  28.0289  70.7004  19.7369  NaN NaN\n",
       "12.0  28.0289  70.7004  19.7369  NaN NaN\n",
       "12.5  28.0289  70.7004  19.7369  NaN NaN"
      ]
     },
     "execution_count": 23,
     "metadata": {},
     "output_type": "execute_result"
    }
   ],
   "source": [
    "#Replace values in a column? sera que remplazamos todo una columna por una columna vacia? o add an empty column????\n",
    "df_replaced= df_data_small.replace(160.0384,'NaN')\n",
    "df_replaced.head()"
   ]
  },
  {
   "cell_type": "code",
   "execution_count": 24,
   "metadata": {
    "iooxa": {
     "id": {
      "block": "nt4AuIDOu5OgDFeVtBgZ",
      "project": "anKPrTxY08dBACBwy7Ui",
      "version": 1
     },
     "outputId": {
      "block": "aCvtCiJ902ukm8i4Vy36",
      "project": "anKPrTxY08dBACBwy7Ui",
      "version": 1
     }
    }
   },
   "outputs": [
    {
     "data": {
      "text/plain": [
       "DEPT\n",
       "10.5          NaN\n",
       "11.0          NaN\n",
       "11.5          NaN\n",
       "12.0          NaN\n",
       "12.5          NaN\n",
       "           ...   \n",
       "7572.0    185.217\n",
       "7572.5    185.217\n",
       "7573.0    185.217\n",
       "7573.5    185.217\n",
       "7574.0    185.217\n",
       "Name: GR, Length: 15128, dtype: object"
      ]
     },
     "execution_count": 24,
     "metadata": {},
     "output_type": "execute_result"
    }
   ],
   "source": [
    "#calling 1 column using index label to make a closer inspection\n",
    "df_replaced['GR']"
   ]
  },
  {
   "cell_type": "code",
   "execution_count": 25,
   "metadata": {
    "iooxa": {
     "id": {
      "block": "pUeosmXAzfvEeY2j8oT6",
      "project": "anKPrTxY08dBACBwy7Ui",
      "version": 1
     },
     "outputId": {
      "block": "Okos8tjMsij4JzatPbXn",
      "project": "anKPrTxY08dBACBwy7Ui",
      "version": 1
     }
    }
   },
   "outputs": [
    {
     "data": {
      "text/html": [
       "<div>\n",
       "<style scoped>\n",
       "    .dataframe tbody tr th:only-of-type {\n",
       "        vertical-align: middle;\n",
       "    }\n",
       "\n",
       "    .dataframe tbody tr th {\n",
       "        vertical-align: top;\n",
       "    }\n",
       "\n",
       "    .dataframe thead th {\n",
       "        text-align: right;\n",
       "    }\n",
       "</style>\n",
       "<table border=\"1\" class=\"dataframe\">\n",
       "  <thead>\n",
       "    <tr style=\"text-align: right;\">\n",
       "      <th></th>\n",
       "      <th>SP</th>\n",
       "      <th>AT90</th>\n",
       "      <th>GR</th>\n",
       "    </tr>\n",
       "    <tr>\n",
       "      <th>DEPT</th>\n",
       "      <th></th>\n",
       "      <th></th>\n",
       "      <th></th>\n",
       "    </tr>\n",
       "  </thead>\n",
       "  <tbody>\n",
       "    <tr>\n",
       "      <th>10.5</th>\n",
       "      <td>NaN</td>\n",
       "      <td>19.7369</td>\n",
       "      <td>160.0384</td>\n",
       "    </tr>\n",
       "    <tr>\n",
       "      <th>11.0</th>\n",
       "      <td>NaN</td>\n",
       "      <td>19.7369</td>\n",
       "      <td>160.0384</td>\n",
       "    </tr>\n",
       "    <tr>\n",
       "      <th>11.5</th>\n",
       "      <td>NaN</td>\n",
       "      <td>19.7369</td>\n",
       "      <td>160.0384</td>\n",
       "    </tr>\n",
       "    <tr>\n",
       "      <th>12.0</th>\n",
       "      <td>NaN</td>\n",
       "      <td>19.7369</td>\n",
       "      <td>160.0384</td>\n",
       "    </tr>\n",
       "    <tr>\n",
       "      <th>12.5</th>\n",
       "      <td>NaN</td>\n",
       "      <td>19.7369</td>\n",
       "      <td>160.0384</td>\n",
       "    </tr>\n",
       "    <tr>\n",
       "      <th>...</th>\n",
       "      <td>...</td>\n",
       "      <td>...</td>\n",
       "      <td>...</td>\n",
       "    </tr>\n",
       "    <tr>\n",
       "      <th>7572.0</th>\n",
       "      <td>64.2308</td>\n",
       "      <td>1950.0000</td>\n",
       "      <td>185.2172</td>\n",
       "    </tr>\n",
       "    <tr>\n",
       "      <th>7572.5</th>\n",
       "      <td>65.9375</td>\n",
       "      <td>1950.0000</td>\n",
       "      <td>185.2172</td>\n",
       "    </tr>\n",
       "    <tr>\n",
       "      <th>7573.0</th>\n",
       "      <td>64.9519</td>\n",
       "      <td>1950.0000</td>\n",
       "      <td>185.2172</td>\n",
       "    </tr>\n",
       "    <tr>\n",
       "      <th>7573.5</th>\n",
       "      <td>59.6354</td>\n",
       "      <td>1950.0000</td>\n",
       "      <td>185.2172</td>\n",
       "    </tr>\n",
       "    <tr>\n",
       "      <th>7574.0</th>\n",
       "      <td>51.4583</td>\n",
       "      <td>1950.0000</td>\n",
       "      <td>185.2172</td>\n",
       "    </tr>\n",
       "  </tbody>\n",
       "</table>\n",
       "<p>15128 rows × 3 columns</p>\n",
       "</div>"
      ],
      "text/plain": [
       "             SP       AT90        GR\n",
       "DEPT                                \n",
       "10.5        NaN    19.7369  160.0384\n",
       "11.0        NaN    19.7369  160.0384\n",
       "11.5        NaN    19.7369  160.0384\n",
       "12.0        NaN    19.7369  160.0384\n",
       "12.5        NaN    19.7369  160.0384\n",
       "...         ...        ...       ...\n",
       "7572.0  64.2308  1950.0000  185.2172\n",
       "7572.5  65.9375  1950.0000  185.2172\n",
       "7573.0  64.9519  1950.0000  185.2172\n",
       "7573.5  59.6354  1950.0000  185.2172\n",
       "7574.0  51.4583  1950.0000  185.2172\n",
       "\n",
       "[15128 rows x 3 columns]"
      ]
     },
     "execution_count": 25,
     "metadata": {},
     "output_type": "execute_result"
    }
   ],
   "source": [
    "#change order of columns using pandas\n",
    "df_data_columns=df_data_small[['SP','AT90','GR']]\n",
    "df_data_columns"
   ]
  },
  {
   "cell_type": "code",
   "execution_count": 26,
   "metadata": {
    "iooxa": {
     "id": {
      "block": "0rpRAfwOaM9sDLC267Wh",
      "project": "anKPrTxY08dBACBwy7Ui",
      "version": 1
     },
     "outputId": {
      "block": "f7MNhn9S9w2C6gqsbUQT",
      "project": "anKPrTxY08dBACBwy7Ui",
      "version": 1
     }
    }
   },
   "outputs": [
    {
     "data": {
      "text/html": [
       "<div>\n",
       "<style scoped>\n",
       "    .dataframe tbody tr th:only-of-type {\n",
       "        vertical-align: middle;\n",
       "    }\n",
       "\n",
       "    .dataframe tbody tr th {\n",
       "        vertical-align: top;\n",
       "    }\n",
       "\n",
       "    .dataframe thead th {\n",
       "        text-align: right;\n",
       "    }\n",
       "</style>\n",
       "<table border=\"1\" class=\"dataframe\">\n",
       "  <thead>\n",
       "    <tr style=\"text-align: right;\">\n",
       "      <th></th>\n",
       "      <th>AT30</th>\n",
       "      <th>AT60</th>\n",
       "      <th>Curve2</th>\n",
       "      <th>GR</th>\n",
       "      <th>Curve1</th>\n",
       "    </tr>\n",
       "    <tr>\n",
       "      <th>DEPT</th>\n",
       "      <th></th>\n",
       "      <th></th>\n",
       "      <th></th>\n",
       "      <th></th>\n",
       "      <th></th>\n",
       "    </tr>\n",
       "  </thead>\n",
       "  <tbody>\n",
       "    <tr>\n",
       "      <th>10.5</th>\n",
       "      <td>28.0289</td>\n",
       "      <td>70.7004</td>\n",
       "      <td>19.7369</td>\n",
       "      <td>160.0384</td>\n",
       "      <td>NaN</td>\n",
       "    </tr>\n",
       "    <tr>\n",
       "      <th>11.0</th>\n",
       "      <td>28.0289</td>\n",
       "      <td>70.7004</td>\n",
       "      <td>19.7369</td>\n",
       "      <td>160.0384</td>\n",
       "      <td>NaN</td>\n",
       "    </tr>\n",
       "    <tr>\n",
       "      <th>11.5</th>\n",
       "      <td>28.0289</td>\n",
       "      <td>70.7004</td>\n",
       "      <td>19.7369</td>\n",
       "      <td>160.0384</td>\n",
       "      <td>NaN</td>\n",
       "    </tr>\n",
       "    <tr>\n",
       "      <th>12.0</th>\n",
       "      <td>28.0289</td>\n",
       "      <td>70.7004</td>\n",
       "      <td>19.7369</td>\n",
       "      <td>160.0384</td>\n",
       "      <td>NaN</td>\n",
       "    </tr>\n",
       "    <tr>\n",
       "      <th>12.5</th>\n",
       "      <td>28.0289</td>\n",
       "      <td>70.7004</td>\n",
       "      <td>19.7369</td>\n",
       "      <td>160.0384</td>\n",
       "      <td>NaN</td>\n",
       "    </tr>\n",
       "    <tr>\n",
       "      <th>...</th>\n",
       "      <td>...</td>\n",
       "      <td>...</td>\n",
       "      <td>...</td>\n",
       "      <td>...</td>\n",
       "      <td>...</td>\n",
       "    </tr>\n",
       "    <tr>\n",
       "      <th>7572.0</th>\n",
       "      <td>133.9417</td>\n",
       "      <td>536.4155</td>\n",
       "      <td>1950.0000</td>\n",
       "      <td>185.2172</td>\n",
       "      <td>64.2308</td>\n",
       "    </tr>\n",
       "    <tr>\n",
       "      <th>7572.5</th>\n",
       "      <td>133.9417</td>\n",
       "      <td>536.4155</td>\n",
       "      <td>1950.0000</td>\n",
       "      <td>185.2172</td>\n",
       "      <td>65.9375</td>\n",
       "    </tr>\n",
       "    <tr>\n",
       "      <th>7573.0</th>\n",
       "      <td>133.9417</td>\n",
       "      <td>536.4155</td>\n",
       "      <td>1950.0000</td>\n",
       "      <td>185.2172</td>\n",
       "      <td>64.9519</td>\n",
       "    </tr>\n",
       "    <tr>\n",
       "      <th>7573.5</th>\n",
       "      <td>133.9417</td>\n",
       "      <td>536.4155</td>\n",
       "      <td>1950.0000</td>\n",
       "      <td>185.2172</td>\n",
       "      <td>59.6354</td>\n",
       "    </tr>\n",
       "    <tr>\n",
       "      <th>7574.0</th>\n",
       "      <td>133.9417</td>\n",
       "      <td>536.4155</td>\n",
       "      <td>1950.0000</td>\n",
       "      <td>185.2172</td>\n",
       "      <td>51.4583</td>\n",
       "    </tr>\n",
       "  </tbody>\n",
       "</table>\n",
       "<p>15128 rows × 5 columns</p>\n",
       "</div>"
      ],
      "text/plain": [
       "            AT30      AT60     Curve2        GR   Curve1\n",
       "DEPT                                                    \n",
       "10.5     28.0289   70.7004    19.7369  160.0384      NaN\n",
       "11.0     28.0289   70.7004    19.7369  160.0384      NaN\n",
       "11.5     28.0289   70.7004    19.7369  160.0384      NaN\n",
       "12.0     28.0289   70.7004    19.7369  160.0384      NaN\n",
       "12.5     28.0289   70.7004    19.7369  160.0384      NaN\n",
       "...          ...       ...        ...       ...      ...\n",
       "7572.0  133.9417  536.4155  1950.0000  185.2172  64.2308\n",
       "7572.5  133.9417  536.4155  1950.0000  185.2172  65.9375\n",
       "7573.0  133.9417  536.4155  1950.0000  185.2172  64.9519\n",
       "7573.5  133.9417  536.4155  1950.0000  185.2172  59.6354\n",
       "7574.0  133.9417  536.4155  1950.0000  185.2172  51.4583\n",
       "\n",
       "[15128 rows x 5 columns]"
      ]
     },
     "execution_count": 26,
     "metadata": {},
     "output_type": "execute_result"
    }
   ],
   "source": [
    "#change name of Columns\n",
    "df_data_name=df_data_small.rename(columns={'SP':'Curve1','AT90':'Curve2'})\n",
    "df_data_name"
   ]
  },
  {
   "cell_type": "code",
   "execution_count": 27,
   "metadata": {
    "iooxa": {
     "id": {
      "block": "In2MegKDsefAL6mHBjB5",
      "project": "anKPrTxY08dBACBwy7Ui",
      "version": 1
     },
     "outputId": {
      "block": "gYQqCslFoPqzCFyk3FSA",
      "project": "anKPrTxY08dBACBwy7Ui",
      "version": 1
     }
    }
   },
   "outputs": [
    {
     "name": "stdout",
     "output_type": "stream",
     "text": [
      "Float64Index([  10.5,   11.0,   11.5,   12.0,   12.5,   13.0,   13.5,   14.0,\n",
      "                14.5,   15.0,\n",
      "              ...\n",
      "              7569.5, 7570.0, 7570.5, 7571.0, 7571.5, 7572.0, 7572.5, 7573.0,\n",
      "              7573.5, 7574.0],\n",
      "             dtype='float64', name='DEPT', length=15128)\n"
     ]
    }
   ],
   "source": [
    "#lets look at the index, on this data frame we are using the first column \"DEPT\" - CAMBIAR PARA ARRIBA CUANDO SE LEE EL LAS FILE\n",
    "print(df_data.index)"
   ]
  },
  {
   "cell_type": "code",
   "execution_count": 28,
   "metadata": {
    "iooxa": {
     "id": {
      "block": "5PjjzL049GcCkw33HYKv",
      "project": "anKPrTxY08dBACBwy7Ui",
      "version": 1
     },
     "outputId": {
      "block": "S9tMEkEwmP6WQ9Y5obk3",
      "project": "anKPrTxY08dBACBwy7Ui",
      "version": 1
     }
    }
   },
   "outputs": [
    {
     "data": {
      "image/png": "[encoded data removed]",
      "text/plain": [
       "<Figure size 1800x576 with 2 Axes>"
      ]
     },
     "metadata": {
      "needs_background": "light"
     },
     "output_type": "display_data"
    }
   ],
   "source": [
    "#to visually see how complete is the data and see if there are parameters with \n",
    "#missing data we can use this method\n",
    "\n",
    "fig, ax = plt.subplots(figsize=(25,8))\n",
    "sns.heatmap(df_data.isnull(), ax=ax, cmap=\"magma\")\n",
    "plt.grid()\n",
    "plt.show()"
   ]
  },
  {
   "cell_type": "code",
   "execution_count": 29,
   "metadata": {},
   "outputs": [
    {
     "data": {
      "image/png": "[encoded data removed]",
      "text/plain": [
       "<Figure size 1800x576 with 2 Axes>"
      ]
     },
     "metadata": {
      "needs_background": "light"
     },
     "output_type": "display_data"
    }
   ],
   "source": [
    "#to visually see how complete is the data and see if there are parameters with \n",
    "#missing data we can use this method\n",
    "#what about the small df where we have replaced some values?\n",
    "\n",
    "fig, ax = plt.subplots(figsize=(25,8))\n",
    "sns.heatmap(df_replaced.isnull(), ax=ax, cmap=\"magma\")\n",
    "plt.grid()\n",
    "plt.show()"
   ]
  },
  {
   "cell_type": "markdown",
   "metadata": {
    "iooxa": {
     "id": {
      "block": "AVDBv52ImzD27cnYto2t",
      "project": "anKPrTxY08dBACBwy7Ui",
      "version": 1
     }
    }
   },
   "source": [
    "### Calculate Volume of shale (Vsh) from GR formula Vsh=(GR-GRmin)/(GRmax-GRmin)"
   ]
  },
  {
   "cell_type": "code",
   "execution_count": 30,
   "metadata": {
    "iooxa": {
     "id": {
      "block": "JgyOApLensYQMls2JzLJ",
      "project": "anKPrTxY08dBACBwy7Ui",
      "version": 1
     },
     "outputId": {
      "block": "5MwlaANjBWJ0gUivegf8",
      "project": "anKPrTxY08dBACBwy7Ui",
      "version": 1
     }
    }
   },
   "outputs": [
    {
     "ename": "NameError",
     "evalue": "name 'dfmain' is not defined",
     "output_type": "error",
     "traceback": [
      "\u001b[1;31m---------------------------------------------------------------------------\u001b[0m",
      "\u001b[1;31mNameError\u001b[0m                                 Traceback (most recent call last)",
      "\u001b[1;32m<ipython-input-30-8edb57137f15>\u001b[0m in \u001b[0;36m<module>\u001b[1;34m\u001b[0m\n\u001b[0;32m      1\u001b[0m \u001b[1;31m#Make operations with selected columns - BORRAR y cambiar calculos.\u001b[0m\u001b[1;33m\u001b[0m\u001b[1;33m\u001b[0m\u001b[1;33m\u001b[0m\u001b[0m\n\u001b[0;32m      2\u001b[0m \u001b[1;33m\u001b[0m\u001b[0m\n\u001b[1;32m----> 3\u001b[1;33m \u001b[0mdfmain\u001b[0m\u001b[1;33m[\u001b[0m\u001b[1;34m'Vsh'\u001b[0m\u001b[1;33m]\u001b[0m \u001b[1;33m=\u001b[0m \u001b[0mdfmain\u001b[0m\u001b[1;33m[\u001b[0m\u001b[1;34m'GR'\u001b[0m\u001b[1;33m]\u001b[0m \u001b[1;33m-\u001b[0m \u001b[0mmin\u001b[0m\u001b[1;33m(\u001b[0m\u001b[0mdfmain\u001b[0m\u001b[1;33m[\u001b[0m\u001b[1;34m'GR'\u001b[0m\u001b[1;33m]\u001b[0m\u001b[1;33m)\u001b[0m\u001b[1;33m/\u001b[0m\u001b[1;33m(\u001b[0m\u001b[0mmax\u001b[0m\u001b[1;33m(\u001b[0m\u001b[0mdfmain\u001b[0m\u001b[1;33m[\u001b[0m\u001b[1;34m'GR'\u001b[0m\u001b[1;33m]\u001b[0m\u001b[1;33m)\u001b[0m\u001b[1;33m-\u001b[0m \u001b[0mmin\u001b[0m\u001b[1;33m(\u001b[0m\u001b[0mdfmain\u001b[0m\u001b[1;33m[\u001b[0m\u001b[1;34m'GR'\u001b[0m\u001b[1;33m]\u001b[0m\u001b[1;33m)\u001b[0m\u001b[1;33m)\u001b[0m\u001b[1;33m\u001b[0m\u001b[1;33m\u001b[0m\u001b[0m\n\u001b[0m\u001b[0;32m      4\u001b[0m \u001b[0mdfmain\u001b[0m\u001b[1;33m[\u001b[0m\u001b[1;34m'Vsh'\u001b[0m\u001b[1;33m]\u001b[0m\u001b[1;33m.\u001b[0m\u001b[0mdescribe\u001b[0m\u001b[1;33m(\u001b[0m\u001b[1;33m)\u001b[0m\u001b[1;33m\u001b[0m\u001b[1;33m\u001b[0m\u001b[0m\n",
      "\u001b[1;31mNameError\u001b[0m: name 'dfmain' is not defined"
     ]
    }
   ],
   "source": [
    "#Make operations with selected columns - BORRAR y cambiar calculos.\n",
    "\n",
    "dfmain['Vsh'] = dfmain['GR'] - min(dfmain['GR'])/(max(dfmain['GR'])- min(dfmain['GR']))\n",
    "dfmain['Vsh'].describe()"
   ]
  },
  {
   "cell_type": "markdown",
   "metadata": {
    "iooxa": {
     "id": {
      "block": "jWnAnS4nJBZrB2ELssCF",
      "project": "anKPrTxY08dBACBwy7Ui",
      "version": 1
     }
    }
   },
   "source": [
    "### Read Thermal conductivity and mineralogy data measured in drill cuttings. CAUTION: Depths are in meters, need to be converted to feet\n"
   ]
  },
  {
   "cell_type": "code",
   "execution_count": 34,
   "metadata": {
    "iooxa": {
     "id": {
      "block": "lABHQgAgSNqD0QTMNaKK",
      "project": "anKPrTxY08dBACBwy7Ui",
      "version": 1
     },
     "outputId": {
      "block": "l23Q5Ee0bWCKvWIZ9tmx",
      "project": "anKPrTxY08dBACBwy7Ui",
      "version": 1
     }
    }
   },
   "outputs": [
    {
     "data": {
      "text/html": [
       "<div>\n",
       "<style scoped>\n",
       "    .dataframe tbody tr th:only-of-type {\n",
       "        vertical-align: middle;\n",
       "    }\n",
       "\n",
       "    .dataframe tbody tr th {\n",
       "        vertical-align: top;\n",
       "    }\n",
       "\n",
       "    .dataframe thead th {\n",
       "        text-align: right;\n",
       "    }\n",
       "</style>\n",
       "<table border=\"1\" class=\"dataframe\">\n",
       "  <thead>\n",
       "    <tr style=\"text-align: right;\">\n",
       "      <th></th>\n",
       "      <th>Lower Depth Interval (m)</th>\n",
       "      <th>Upper Depth Interval (m)</th>\n",
       "      <th>matrix thermal conductivity (W/m deg C)</th>\n",
       "      <th>Matrix_TC</th>\n",
       "    </tr>\n",
       "    <tr>\n",
       "      <th>Depth</th>\n",
       "      <th></th>\n",
       "      <th></th>\n",
       "      <th></th>\n",
       "      <th></th>\n",
       "    </tr>\n",
       "  </thead>\n",
       "  <tbody>\n",
       "    <tr>\n",
       "      <th>6699.803364</th>\n",
       "      <td>2042.1</td>\n",
       "      <td>2045.1</td>\n",
       "      <td>3.03</td>\n",
       "      <td>3.03</td>\n",
       "    </tr>\n",
       "    <tr>\n",
       "      <th>6899.606520</th>\n",
       "      <td>2103.0</td>\n",
       "      <td>2106.1</td>\n",
       "      <td>3.13</td>\n",
       "      <td>3.13</td>\n",
       "    </tr>\n",
       "    <tr>\n",
       "      <th>6999.672140</th>\n",
       "      <td>2133.5</td>\n",
       "      <td>2136.5</td>\n",
       "      <td>3.46</td>\n",
       "      <td>3.46</td>\n",
       "    </tr>\n",
       "    <tr>\n",
       "      <th>7099.737760</th>\n",
       "      <td>2164.0</td>\n",
       "      <td>2167.0</td>\n",
       "      <td>2.80</td>\n",
       "      <td>2.80</td>\n",
       "    </tr>\n",
       "    <tr>\n",
       "      <th>7199.803380</th>\n",
       "      <td>2194.5</td>\n",
       "      <td>2197.5</td>\n",
       "      <td>2.96</td>\n",
       "      <td>2.96</td>\n",
       "    </tr>\n",
       "    <tr>\n",
       "      <th>7299.540916</th>\n",
       "      <td>2224.9</td>\n",
       "      <td>2228.0</td>\n",
       "      <td>3.16</td>\n",
       "      <td>3.16</td>\n",
       "    </tr>\n",
       "    <tr>\n",
       "      <th>7399.606536</th>\n",
       "      <td>2255.4</td>\n",
       "      <td>2258.5</td>\n",
       "      <td>2.68</td>\n",
       "      <td>2.68</td>\n",
       "    </tr>\n",
       "    <tr>\n",
       "      <th>7499.672156</th>\n",
       "      <td>2285.9</td>\n",
       "      <td>2288.9</td>\n",
       "      <td>2.78</td>\n",
       "      <td>2.78</td>\n",
       "    </tr>\n",
       "  </tbody>\n",
       "</table>\n",
       "</div>"
      ],
      "text/plain": [
       "             Lower Depth Interval (m)  Upper Depth Interval (m)  \\\n",
       "Depth                                                             \n",
       "6699.803364                    2042.1                    2045.1   \n",
       "6899.606520                    2103.0                    2106.1   \n",
       "6999.672140                    2133.5                    2136.5   \n",
       "7099.737760                    2164.0                    2167.0   \n",
       "7199.803380                    2194.5                    2197.5   \n",
       "7299.540916                    2224.9                    2228.0   \n",
       "7399.606536                    2255.4                    2258.5   \n",
       "7499.672156                    2285.9                    2288.9   \n",
       "\n",
       "             matrix thermal conductivity (W/m deg C)  Matrix_TC  \n",
       "Depth                                                            \n",
       "6699.803364                                     3.03       3.03  \n",
       "6899.606520                                     3.13       3.13  \n",
       "6999.672140                                     3.46       3.46  \n",
       "7099.737760                                     2.80       2.80  \n",
       "7199.803380                                     2.96       2.96  \n",
       "7299.540916                                     3.16       3.16  \n",
       "7399.606536                                     2.68       2.68  \n",
       "7499.672156                                     2.78       2.78  "
      ]
     },
     "execution_count": 34,
     "metadata": {},
     "output_type": "execute_result"
    }
   ],
   "source": [
    "#We can use Pandas to read a .csv file Thermal Conductivity lab data\n",
    "\n",
    "TC_coredata = pd.read_csv ('../alldata/58-32_thermal_conductivity_data.csv') \n",
    "\n",
    "#we can use the operations to make units conversions and \n",
    "#substitute the columns with the new converted units.\n",
    "#for example changing from ft to meters in the core data.\n",
    "\n",
    "TC_coredata['Depth'] = (3.28084*TC_coredata['Lower Depth Interval (m)'])\n",
    "TC_coredata['Matrix_TC']=TC_coredata['matrix thermal conductivity (W/m deg C)']\n",
    "TC_coredata.set_index('Depth', inplace=True)\n",
    "\n",
    "#XRD mineralogy lab data\n",
    "XRD_coredata = pd.read_csv ('../alldata/58-32_xray_diffraction_data.csv') \n",
    "XRD_coredata = XRD_coredata.replace('tr',0)\n",
    "XRD_coredata['Depth'] = (3.28084*XRD_coredata['Lower Depth Range (m)'])\n",
    "XRD_coredata.set_index('Depth', inplace=True)\n",
    "\n",
    "TC_coredata.tail(8)"
   ]
  },
  {
   "cell_type": "code",
   "execution_count": null,
   "metadata": {},
   "outputs": [],
   "source": []
  },
  {
   "cell_type": "markdown",
   "metadata": {
    "iooxa": {
     "id": {
      "block": "ytvHl7fnOy1HLm624IXR",
      "project": "anKPrTxY08dBACBwy7Ui",
      "version": 1
     }
    }
   },
   "source": [
    "### Create a function that would create a layout with basic logs and core data"
   ]
  },
  {
   "cell_type": "code",
   "execution_count": 35,
   "metadata": {
    "iooxa": {
     "id": {
      "block": "9mv3ARJQuI40H3MYf0FZ",
      "project": "anKPrTxY08dBACBwy7Ui",
      "version": 1
     },
     "outputId": null
    }
   },
   "outputs": [],
   "source": [
    "#basic plot to inspect data \n",
    "def make_layout_tc (log_df, XRD, TC):\n",
    "  \n",
    "    fig, axs = plt.subplots(nrows=1, ncols=5, sharey=True, squeeze=True, figsize=(15, 15), gridspec_kw={'wspace': 0.25})\n",
    "    fig.subplots_adjust(left=0.05, bottom=0.05, right=0.975, top=0.7, wspace=0.2, hspace=0.2)\n",
    "    axs[0].set_ylabel('Depth (ft)')\n",
    "    axs[0].invert_yaxis()\n",
    "    axs[0].get_xaxis().set_visible(False)\n",
    "    \n",
    "    # First track GR/SP logs to display\n",
    "    ax1 = axs[0].twiny()  \n",
    "    ax1.plot(log_df.GR, log_df.index, '-', color='#2ea869', linewidth=0.5)\n",
    "    ax1.set_xlim(0,450) \n",
    "    ax1.set_xlabel('GR (API)', color='#2ea869')\n",
    "    ax1.minorticks_on()\n",
    "    ax1.spines['top'].set_position(('axes', 1.075)) \n",
    "    \n",
    "    ax2 = axs[0].twiny() \n",
    "    ax2.plot(log_df.SP, log_df.index, '-', color='#0a0a0a', linewidth=0.7)\n",
    "    ax2.set_xlim(-200,200) \n",
    "    ax2.set_xlabel('SP(mV)', color='#0a0a0a')\n",
    "    ax2.minorticks_on()\n",
    "    ax2.spines['top'].set_position(('axes', 1.0))    \n",
    "    ax2.grid(True)\n",
    "    axs[0].get_xaxis().set_visible(False)\n",
    "    \n",
    "    # Second track RHOZ/NPHI logs to display\n",
    "    ax1 = axs[1].twiny()  \n",
    "    ax1.plot(log_df.RHOZ, log_df.index, '-', color='#ea0606', linewidth=0.5)\n",
    "    ax1.set_xlim(1.5,3.0) \n",
    "    ax1.set_xlabel('RHOZ (g/cm3)', color='#ea0606')\n",
    "    ax1.minorticks_on()\n",
    "    ax1.spines['top'].set_position(('axes', 1.075))\n",
    "\n",
    "    ax2 = axs[1].twiny()  \n",
    "    ax2.plot(log_df.NPHI, log_df.index, '-', color='#1577e0', linewidth=0.5)\n",
    "    ax2.set_xlim(1,0) \n",
    "    ax2.set_xlabel('NPHI (v/v)', color='#1577e0')\n",
    "    ax2.minorticks_on()\n",
    "    ax2.spines['top'].set_position(('axes', 1.0))\n",
    "    ax2.grid(True)\n",
    "    axs[1].get_xaxis().set_visible(False)\n",
    "    \n",
    "    # Third track Resistivities\n",
    "    ax1 = axs[2].twiny()  \n",
    "    ax1.plot(log_df.AT10, log_df.index, '-', color='#6e787c', linewidth=0.5)\n",
    "    ax1.set_xlim(0.1,100000)  \n",
    "    ax1.set_xlabel('AT10 (ohm.m)', color='#6e787c')\n",
    "    ax1.set_xscale('log')\n",
    "    ax1.minorticks_on()\n",
    "    ax1.spines['top'].set_position(('axes', 1.075))\n",
    "    \n",
    "    ax2 = axs[2].twiny()  \n",
    "    ax2.plot(log_df.AT90, log_df.index, '-', color='#ea0606', linewidth=0.5)\n",
    "    ax2.set_xlim(0.1,100000)  \n",
    "    ax2.set_xlabel('AT90 (ohm.m)', color='#ea0606')\n",
    "    ax2.set_xscale('log')\n",
    "    ax2.minorticks_on()\n",
    "    ax2.spines['top'].set_position(('axes', 1.0))\n",
    "    ax2.grid(True)\n",
    "    axs[2].get_xaxis().set_visible(False)\n",
    "\n",
    "\n",
    "  # Fourth track XRD to display\n",
    "    ax1 = axs[3].twiny()  \n",
    "    ax1.plot(XRD.Quartz, XRD.index, 'o', color='#eac406')\n",
    "    ax1.set_xlim(0,50) \n",
    "    ax1.set_xlabel('Quartz %', color='#eac406')\n",
    "    ax1.minorticks_on()\n",
    "    ax1.spines['top'].set_position(('axes', 1.075))\n",
    "    \n",
    "    ax2 = axs[3].twiny()  \n",
    "    ax2.plot(XRD['Illite'], XRD.index, 'o', color='#94898c')\n",
    "    ax2.set_xlim(0,50) \n",
    "    ax2.set_xlabel('Illite %', color='#94898c')\n",
    "    ax2.minorticks_on()\n",
    "    ax2.spines['top'].set_position(('axes', 1.0))\n",
    "    ax2.grid(True)\n",
    "    axs[3].get_xaxis().set_visible(False)\n",
    "\n",
    "\n",
    "    # Fifth track Temp/TC to display\n",
    "    ax1 = axs[4].twiny()  \n",
    "    ax1.plot(TC.Matrix_TC, TC.index, 'o', color='#6e787c')\n",
    "    ax1.set_xlim(0,5) \n",
    "    ax1.set_xlabel('Matrix TC Measured W/mC', color='#6e787c')\n",
    "    ax1.minorticks_on()\n",
    "    ax1.spines['top'].set_position(('axes', 1.075))\n",
    "\n",
    "    ax2 = axs[4].twiny()  \n",
    "    ax2.plot(log_df.CTEM, log_df.index, '-', color='#ed8712')\n",
    "    ax2.set_xlim(0,300) \n",
    "    ax2.set_xlabel('Temp degF', color='#ed8712')\n",
    "    ax2.minorticks_on()\n",
    "    ax2.spines['top'].set_position(('axes', 1.0))\n",
    "    ax2.grid(True)\n",
    "    axs[4].get_xaxis().set_visible(False)\n",
    "         \n",
    "    fig.suptitle('Well Data for UTAH FORGE 58-32',weight='bold', fontsize=20, y=0.85);\n",
    "    plt.show()\n"
   ]
  },
  {
   "cell_type": "code",
   "execution_count": 37,
   "metadata": {
    "iooxa": {
     "id": {
      "block": "J0Fjsd3Eq1wwDz69GMxG",
      "project": "anKPrTxY08dBACBwy7Ui",
      "version": 1
     },
     "outputId": {
      "block": "cITmpozD1QjaBPwgARYe",
      "project": "anKPrTxY08dBACBwy7Ui",
      "version": 1
     }
    }
   },
   "outputs": [
    {
     "ename": "KeyboardInterrupt",
     "evalue": "",
     "output_type": "error",
     "traceback": [
      "\u001b[1;31m---------------------------------------------------------------------------\u001b[0m",
      "\u001b[1;31mKeyboardInterrupt\u001b[0m                         Traceback (most recent call last)",
      "\u001b[1;32m<ipython-input-37-5311a95c1348>\u001b[0m in \u001b[0;36m<module>\u001b[1;34m\u001b[0m\n\u001b[1;32m----> 1\u001b[1;33m \u001b[0mmake_layout_tc\u001b[0m \u001b[1;33m(\u001b[0m\u001b[0mdf_data\u001b[0m\u001b[1;33m,\u001b[0m \u001b[0mXRD_coredata\u001b[0m\u001b[1;33m,\u001b[0m \u001b[0mTC_coredata\u001b[0m\u001b[1;33m)\u001b[0m\u001b[1;33m\u001b[0m\u001b[1;33m\u001b[0m\u001b[0m\n\u001b[0m",
      "\u001b[1;32m<ipython-input-35-002267e0f547>\u001b[0m in \u001b[0;36mmake_layout_tc\u001b[1;34m(log_df, XRD, TC)\u001b[0m\n\u001b[0;32m     98\u001b[0m \u001b[1;33m\u001b[0m\u001b[0m\n\u001b[0;32m     99\u001b[0m     \u001b[0mfig\u001b[0m\u001b[1;33m.\u001b[0m\u001b[0msuptitle\u001b[0m\u001b[1;33m(\u001b[0m\u001b[1;34m'Well Data for UTAH FORGE 58-32'\u001b[0m\u001b[1;33m,\u001b[0m\u001b[0mweight\u001b[0m\u001b[1;33m=\u001b[0m\u001b[1;34m'bold'\u001b[0m\u001b[1;33m,\u001b[0m \u001b[0mfontsize\u001b[0m\u001b[1;33m=\u001b[0m\u001b[1;36m20\u001b[0m\u001b[1;33m,\u001b[0m \u001b[0my\u001b[0m\u001b[1;33m=\u001b[0m\u001b[1;36m0.85\u001b[0m\u001b[1;33m)\u001b[0m\u001b[1;33m;\u001b[0m\u001b[1;33m\u001b[0m\u001b[1;33m\u001b[0m\u001b[0m\n\u001b[1;32m--> 100\u001b[1;33m     \u001b[0mplt\u001b[0m\u001b[1;33m.\u001b[0m\u001b[0mshow\u001b[0m\u001b[1;33m(\u001b[0m\u001b[1;33m)\u001b[0m\u001b[1;33m\u001b[0m\u001b[1;33m\u001b[0m\u001b[0m\n\u001b[0m",
      "\u001b[1;32mC:\\ProgramData\\Anaconda3\\lib\\site-packages\\matplotlib\\pyplot.py\u001b[0m in \u001b[0;36mshow\u001b[1;34m(*args, **kwargs)\u001b[0m\n\u001b[0;32m    351\u001b[0m     \"\"\"\n\u001b[0;32m    352\u001b[0m     \u001b[0m_warn_if_gui_out_of_main_thread\u001b[0m\u001b[1;33m(\u001b[0m\u001b[1;33m)\u001b[0m\u001b[1;33m\u001b[0m\u001b[1;33m\u001b[0m\u001b[0m\n\u001b[1;32m--> 353\u001b[1;33m     \u001b[1;32mreturn\u001b[0m \u001b[0m_backend_mod\u001b[0m\u001b[1;33m.\u001b[0m\u001b[0mshow\u001b[0m\u001b[1;33m(\u001b[0m\u001b[1;33m*\u001b[0m\u001b[0margs\u001b[0m\u001b[1;33m,\u001b[0m \u001b[1;33m**\u001b[0m\u001b[0mkwargs\u001b[0m\u001b[1;33m)\u001b[0m\u001b[1;33m\u001b[0m\u001b[1;33m\u001b[0m\u001b[0m\n\u001b[0m\u001b[0;32m    354\u001b[0m \u001b[1;33m\u001b[0m\u001b[0m\n\u001b[0;32m    355\u001b[0m \u001b[1;33m\u001b[0m\u001b[0m\n",
      "\u001b[1;32mC:\\ProgramData\\Anaconda3\\lib\\site-packages\\ipykernel\\pylab\\backend_inline.py\u001b[0m in \u001b[0;36mshow\u001b[1;34m(close, block)\u001b[0m\n\u001b[0;32m     39\u001b[0m     \u001b[1;32mtry\u001b[0m\u001b[1;33m:\u001b[0m\u001b[1;33m\u001b[0m\u001b[1;33m\u001b[0m\u001b[0m\n\u001b[0;32m     40\u001b[0m         \u001b[1;32mfor\u001b[0m \u001b[0mfigure_manager\u001b[0m \u001b[1;32min\u001b[0m \u001b[0mGcf\u001b[0m\u001b[1;33m.\u001b[0m\u001b[0mget_all_fig_managers\u001b[0m\u001b[1;33m(\u001b[0m\u001b[1;33m)\u001b[0m\u001b[1;33m:\u001b[0m\u001b[1;33m\u001b[0m\u001b[1;33m\u001b[0m\u001b[0m\n\u001b[1;32m---> 41\u001b[1;33m             display(\n\u001b[0m\u001b[0;32m     42\u001b[0m                 \u001b[0mfigure_manager\u001b[0m\u001b[1;33m.\u001b[0m\u001b[0mcanvas\u001b[0m\u001b[1;33m.\u001b[0m\u001b[0mfigure\u001b[0m\u001b[1;33m,\u001b[0m\u001b[1;33m\u001b[0m\u001b[1;33m\u001b[0m\u001b[0m\n\u001b[0;32m     43\u001b[0m                 \u001b[0mmetadata\u001b[0m\u001b[1;33m=\u001b[0m\u001b[0m_fetch_figure_metadata\u001b[0m\u001b[1;33m(\u001b[0m\u001b[0mfigure_manager\u001b[0m\u001b[1;33m.\u001b[0m\u001b[0mcanvas\u001b[0m\u001b[1;33m.\u001b[0m\u001b[0mfigure\u001b[0m\u001b[1;33m)\u001b[0m\u001b[1;33m\u001b[0m\u001b[1;33m\u001b[0m\u001b[0m\n",
      "\u001b[1;32mC:\\ProgramData\\Anaconda3\\lib\\site-packages\\IPython\\core\\display.py\u001b[0m in \u001b[0;36mdisplay\u001b[1;34m(include, exclude, metadata, transient, display_id, *objs, **kwargs)\u001b[0m\n\u001b[0;32m    311\u001b[0m             \u001b[0mpublish_display_data\u001b[0m\u001b[1;33m(\u001b[0m\u001b[0mdata\u001b[0m\u001b[1;33m=\u001b[0m\u001b[0mobj\u001b[0m\u001b[1;33m,\u001b[0m \u001b[0mmetadata\u001b[0m\u001b[1;33m=\u001b[0m\u001b[0mmetadata\u001b[0m\u001b[1;33m,\u001b[0m \u001b[1;33m**\u001b[0m\u001b[0mkwargs\u001b[0m\u001b[1;33m)\u001b[0m\u001b[1;33m\u001b[0m\u001b[1;33m\u001b[0m\u001b[0m\n\u001b[0;32m    312\u001b[0m         \u001b[1;32melse\u001b[0m\u001b[1;33m:\u001b[0m\u001b[1;33m\u001b[0m\u001b[1;33m\u001b[0m\u001b[0m\n\u001b[1;32m--> 313\u001b[1;33m             \u001b[0mformat_dict\u001b[0m\u001b[1;33m,\u001b[0m \u001b[0mmd_dict\u001b[0m \u001b[1;33m=\u001b[0m \u001b[0mformat\u001b[0m\u001b[1;33m(\u001b[0m\u001b[0mobj\u001b[0m\u001b[1;33m,\u001b[0m \u001b[0minclude\u001b[0m\u001b[1;33m=\u001b[0m\u001b[0minclude\u001b[0m\u001b[1;33m,\u001b[0m \u001b[0mexclude\u001b[0m\u001b[1;33m=\u001b[0m\u001b[0mexclude\u001b[0m\u001b[1;33m)\u001b[0m\u001b[1;33m\u001b[0m\u001b[1;33m\u001b[0m\u001b[0m\n\u001b[0m\u001b[0;32m    314\u001b[0m             \u001b[1;32mif\u001b[0m \u001b[1;32mnot\u001b[0m \u001b[0mformat_dict\u001b[0m\u001b[1;33m:\u001b[0m\u001b[1;33m\u001b[0m\u001b[1;33m\u001b[0m\u001b[0m\n\u001b[0;32m    315\u001b[0m                 \u001b[1;31m# nothing to display (e.g. _ipython_display_ took over)\u001b[0m\u001b[1;33m\u001b[0m\u001b[1;33m\u001b[0m\u001b[1;33m\u001b[0m\u001b[0m\n",
      "\u001b[1;32mC:\\ProgramData\\Anaconda3\\lib\\site-packages\\IPython\\core\\formatters.py\u001b[0m in \u001b[0;36mformat\u001b[1;34m(self, obj, include, exclude)\u001b[0m\n\u001b[0;32m    178\u001b[0m             \u001b[0mmd\u001b[0m \u001b[1;33m=\u001b[0m \u001b[1;32mNone\u001b[0m\u001b[1;33m\u001b[0m\u001b[1;33m\u001b[0m\u001b[0m\n\u001b[0;32m    179\u001b[0m             \u001b[1;32mtry\u001b[0m\u001b[1;33m:\u001b[0m\u001b[1;33m\u001b[0m\u001b[1;33m\u001b[0m\u001b[0m\n\u001b[1;32m--> 180\u001b[1;33m                 \u001b[0mdata\u001b[0m \u001b[1;33m=\u001b[0m \u001b[0mformatter\u001b[0m\u001b[1;33m(\u001b[0m\u001b[0mobj\u001b[0m\u001b[1;33m)\u001b[0m\u001b[1;33m\u001b[0m\u001b[1;33m\u001b[0m\u001b[0m\n\u001b[0m\u001b[0;32m    181\u001b[0m             \u001b[1;32mexcept\u001b[0m\u001b[1;33m:\u001b[0m\u001b[1;33m\u001b[0m\u001b[1;33m\u001b[0m\u001b[0m\n\u001b[0;32m    182\u001b[0m                 \u001b[1;31m# FIXME: log the exception\u001b[0m\u001b[1;33m\u001b[0m\u001b[1;33m\u001b[0m\u001b[1;33m\u001b[0m\u001b[0m\n",
      "\u001b[1;32m<decorator-gen-2>\u001b[0m in \u001b[0;36m__call__\u001b[1;34m(self, obj)\u001b[0m\n",
      "\u001b[1;32mC:\\ProgramData\\Anaconda3\\lib\\site-packages\\IPython\\core\\formatters.py\u001b[0m in \u001b[0;36mcatch_format_error\u001b[1;34m(method, self, *args, **kwargs)\u001b[0m\n\u001b[0;32m    222\u001b[0m     \u001b[1;34m\"\"\"show traceback on failed format call\"\"\"\u001b[0m\u001b[1;33m\u001b[0m\u001b[1;33m\u001b[0m\u001b[0m\n\u001b[0;32m    223\u001b[0m     \u001b[1;32mtry\u001b[0m\u001b[1;33m:\u001b[0m\u001b[1;33m\u001b[0m\u001b[1;33m\u001b[0m\u001b[0m\n\u001b[1;32m--> 224\u001b[1;33m         \u001b[0mr\u001b[0m \u001b[1;33m=\u001b[0m \u001b[0mmethod\u001b[0m\u001b[1;33m(\u001b[0m\u001b[0mself\u001b[0m\u001b[1;33m,\u001b[0m \u001b[1;33m*\u001b[0m\u001b[0margs\u001b[0m\u001b[1;33m,\u001b[0m \u001b[1;33m**\u001b[0m\u001b[0mkwargs\u001b[0m\u001b[1;33m)\u001b[0m\u001b[1;33m\u001b[0m\u001b[1;33m\u001b[0m\u001b[0m\n\u001b[0m\u001b[0;32m    225\u001b[0m     \u001b[1;32mexcept\u001b[0m \u001b[0mNotImplementedError\u001b[0m\u001b[1;33m:\u001b[0m\u001b[1;33m\u001b[0m\u001b[1;33m\u001b[0m\u001b[0m\n\u001b[0;32m    226\u001b[0m         \u001b[1;31m# don't warn on NotImplementedErrors\u001b[0m\u001b[1;33m\u001b[0m\u001b[1;33m\u001b[0m\u001b[1;33m\u001b[0m\u001b[0m\n",
      "\u001b[1;32mC:\\ProgramData\\Anaconda3\\lib\\site-packages\\IPython\\core\\formatters.py\u001b[0m in \u001b[0;36m__call__\u001b[1;34m(self, obj)\u001b[0m\n\u001b[0;32m    339\u001b[0m                 \u001b[1;32mpass\u001b[0m\u001b[1;33m\u001b[0m\u001b[1;33m\u001b[0m\u001b[0m\n\u001b[0;32m    340\u001b[0m             \u001b[1;32melse\u001b[0m\u001b[1;33m:\u001b[0m\u001b[1;33m\u001b[0m\u001b[1;33m\u001b[0m\u001b[0m\n\u001b[1;32m--> 341\u001b[1;33m                 \u001b[1;32mreturn\u001b[0m \u001b[0mprinter\u001b[0m\u001b[1;33m(\u001b[0m\u001b[0mobj\u001b[0m\u001b[1;33m)\u001b[0m\u001b[1;33m\u001b[0m\u001b[1;33m\u001b[0m\u001b[0m\n\u001b[0m\u001b[0;32m    342\u001b[0m             \u001b[1;31m# Finally look for special method names\u001b[0m\u001b[1;33m\u001b[0m\u001b[1;33m\u001b[0m\u001b[1;33m\u001b[0m\u001b[0m\n\u001b[0;32m    343\u001b[0m             \u001b[0mmethod\u001b[0m \u001b[1;33m=\u001b[0m \u001b[0mget_real_method\u001b[0m\u001b[1;33m(\u001b[0m\u001b[0mobj\u001b[0m\u001b[1;33m,\u001b[0m \u001b[0mself\u001b[0m\u001b[1;33m.\u001b[0m\u001b[0mprint_method\u001b[0m\u001b[1;33m)\u001b[0m\u001b[1;33m\u001b[0m\u001b[1;33m\u001b[0m\u001b[0m\n",
      "\u001b[1;32mC:\\ProgramData\\Anaconda3\\lib\\site-packages\\IPython\\core\\pylabtools.py\u001b[0m in \u001b[0;36m<lambda>\u001b[1;34m(fig)\u001b[0m\n\u001b[0;32m    246\u001b[0m \u001b[1;33m\u001b[0m\u001b[0m\n\u001b[0;32m    247\u001b[0m     \u001b[1;32mif\u001b[0m \u001b[1;34m'png'\u001b[0m \u001b[1;32min\u001b[0m \u001b[0mformats\u001b[0m\u001b[1;33m:\u001b[0m\u001b[1;33m\u001b[0m\u001b[1;33m\u001b[0m\u001b[0m\n\u001b[1;32m--> 248\u001b[1;33m         \u001b[0mpng_formatter\u001b[0m\u001b[1;33m.\u001b[0m\u001b[0mfor_type\u001b[0m\u001b[1;33m(\u001b[0m\u001b[0mFigure\u001b[0m\u001b[1;33m,\u001b[0m \u001b[1;32mlambda\u001b[0m \u001b[0mfig\u001b[0m\u001b[1;33m:\u001b[0m \u001b[0mprint_figure\u001b[0m\u001b[1;33m(\u001b[0m\u001b[0mfig\u001b[0m\u001b[1;33m,\u001b[0m \u001b[1;34m'png'\u001b[0m\u001b[1;33m,\u001b[0m \u001b[1;33m**\u001b[0m\u001b[0mkwargs\u001b[0m\u001b[1;33m)\u001b[0m\u001b[1;33m)\u001b[0m\u001b[1;33m\u001b[0m\u001b[1;33m\u001b[0m\u001b[0m\n\u001b[0m\u001b[0;32m    249\u001b[0m     \u001b[1;32mif\u001b[0m \u001b[1;34m'retina'\u001b[0m \u001b[1;32min\u001b[0m \u001b[0mformats\u001b[0m \u001b[1;32mor\u001b[0m \u001b[1;34m'png2x'\u001b[0m \u001b[1;32min\u001b[0m \u001b[0mformats\u001b[0m\u001b[1;33m:\u001b[0m\u001b[1;33m\u001b[0m\u001b[1;33m\u001b[0m\u001b[0m\n\u001b[0;32m    250\u001b[0m         \u001b[0mpng_formatter\u001b[0m\u001b[1;33m.\u001b[0m\u001b[0mfor_type\u001b[0m\u001b[1;33m(\u001b[0m\u001b[0mFigure\u001b[0m\u001b[1;33m,\u001b[0m \u001b[1;32mlambda\u001b[0m \u001b[0mfig\u001b[0m\u001b[1;33m:\u001b[0m \u001b[0mretina_figure\u001b[0m\u001b[1;33m(\u001b[0m\u001b[0mfig\u001b[0m\u001b[1;33m,\u001b[0m \u001b[1;33m**\u001b[0m\u001b[0mkwargs\u001b[0m\u001b[1;33m)\u001b[0m\u001b[1;33m)\u001b[0m\u001b[1;33m\u001b[0m\u001b[1;33m\u001b[0m\u001b[0m\n",
      "\u001b[1;32mC:\\ProgramData\\Anaconda3\\lib\\site-packages\\IPython\\core\\pylabtools.py\u001b[0m in \u001b[0;36mprint_figure\u001b[1;34m(fig, fmt, bbox_inches, **kwargs)\u001b[0m\n\u001b[0;32m    130\u001b[0m         \u001b[0mFigureCanvasBase\u001b[0m\u001b[1;33m(\u001b[0m\u001b[0mfig\u001b[0m\u001b[1;33m)\u001b[0m\u001b[1;33m\u001b[0m\u001b[1;33m\u001b[0m\u001b[0m\n\u001b[0;32m    131\u001b[0m \u001b[1;33m\u001b[0m\u001b[0m\n\u001b[1;32m--> 132\u001b[1;33m     \u001b[0mfig\u001b[0m\u001b[1;33m.\u001b[0m\u001b[0mcanvas\u001b[0m\u001b[1;33m.\u001b[0m\u001b[0mprint_figure\u001b[0m\u001b[1;33m(\u001b[0m\u001b[0mbytes_io\u001b[0m\u001b[1;33m,\u001b[0m \u001b[1;33m**\u001b[0m\u001b[0mkw\u001b[0m\u001b[1;33m)\u001b[0m\u001b[1;33m\u001b[0m\u001b[1;33m\u001b[0m\u001b[0m\n\u001b[0m\u001b[0;32m    133\u001b[0m     \u001b[0mdata\u001b[0m \u001b[1;33m=\u001b[0m \u001b[0mbytes_io\u001b[0m\u001b[1;33m.\u001b[0m\u001b[0mgetvalue\u001b[0m\u001b[1;33m(\u001b[0m\u001b[1;33m)\u001b[0m\u001b[1;33m\u001b[0m\u001b[1;33m\u001b[0m\u001b[0m\n\u001b[0;32m    134\u001b[0m     \u001b[1;32mif\u001b[0m \u001b[0mfmt\u001b[0m \u001b[1;33m==\u001b[0m \u001b[1;34m'svg'\u001b[0m\u001b[1;33m:\u001b[0m\u001b[1;33m\u001b[0m\u001b[1;33m\u001b[0m\u001b[0m\n",
      "\u001b[1;32mC:\\ProgramData\\Anaconda3\\lib\\site-packages\\matplotlib\\backend_bases.py\u001b[0m in \u001b[0;36mprint_figure\u001b[1;34m(self, filename, dpi, facecolor, edgecolor, orientation, format, bbox_inches, pad_inches, bbox_extra_artists, backend, **kwargs)\u001b[0m\n\u001b[0;32m   2191\u001b[0m                            else suppress())\n\u001b[0;32m   2192\u001b[0m                     \u001b[1;32mwith\u001b[0m \u001b[0mctx\u001b[0m\u001b[1;33m:\u001b[0m\u001b[1;33m\u001b[0m\u001b[1;33m\u001b[0m\u001b[0m\n\u001b[1;32m-> 2193\u001b[1;33m                         \u001b[0mself\u001b[0m\u001b[1;33m.\u001b[0m\u001b[0mfigure\u001b[0m\u001b[1;33m.\u001b[0m\u001b[0mdraw\u001b[0m\u001b[1;33m(\u001b[0m\u001b[0mrenderer\u001b[0m\u001b[1;33m)\u001b[0m\u001b[1;33m\u001b[0m\u001b[1;33m\u001b[0m\u001b[0m\n\u001b[0m\u001b[0;32m   2194\u001b[0m \u001b[1;33m\u001b[0m\u001b[0m\n\u001b[0;32m   2195\u001b[0m                     bbox_inches = self.figure.get_tightbbox(\n",
      "\u001b[1;32mC:\\ProgramData\\Anaconda3\\lib\\site-packages\\matplotlib\\artist.py\u001b[0m in \u001b[0;36mdraw_wrapper\u001b[1;34m(artist, renderer, *args, **kwargs)\u001b[0m\n\u001b[0;32m     39\u001b[0m                 \u001b[0mrenderer\u001b[0m\u001b[1;33m.\u001b[0m\u001b[0mstart_filter\u001b[0m\u001b[1;33m(\u001b[0m\u001b[1;33m)\u001b[0m\u001b[1;33m\u001b[0m\u001b[1;33m\u001b[0m\u001b[0m\n\u001b[0;32m     40\u001b[0m \u001b[1;33m\u001b[0m\u001b[0m\n\u001b[1;32m---> 41\u001b[1;33m             \u001b[1;32mreturn\u001b[0m \u001b[0mdraw\u001b[0m\u001b[1;33m(\u001b[0m\u001b[0martist\u001b[0m\u001b[1;33m,\u001b[0m \u001b[0mrenderer\u001b[0m\u001b[1;33m,\u001b[0m \u001b[1;33m*\u001b[0m\u001b[0margs\u001b[0m\u001b[1;33m,\u001b[0m \u001b[1;33m**\u001b[0m\u001b[0mkwargs\u001b[0m\u001b[1;33m)\u001b[0m\u001b[1;33m\u001b[0m\u001b[1;33m\u001b[0m\u001b[0m\n\u001b[0m\u001b[0;32m     42\u001b[0m         \u001b[1;32mfinally\u001b[0m\u001b[1;33m:\u001b[0m\u001b[1;33m\u001b[0m\u001b[1;33m\u001b[0m\u001b[0m\n\u001b[0;32m     43\u001b[0m             \u001b[1;32mif\u001b[0m \u001b[0martist\u001b[0m\u001b[1;33m.\u001b[0m\u001b[0mget_agg_filter\u001b[0m\u001b[1;33m(\u001b[0m\u001b[1;33m)\u001b[0m \u001b[1;32mis\u001b[0m \u001b[1;32mnot\u001b[0m \u001b[1;32mNone\u001b[0m\u001b[1;33m:\u001b[0m\u001b[1;33m\u001b[0m\u001b[1;33m\u001b[0m\u001b[0m\n",
      "\u001b[1;32mC:\\ProgramData\\Anaconda3\\lib\\site-packages\\matplotlib\\figure.py\u001b[0m in \u001b[0;36mdraw\u001b[1;34m(self, renderer)\u001b[0m\n\u001b[0;32m   1861\u001b[0m \u001b[1;33m\u001b[0m\u001b[0m\n\u001b[0;32m   1862\u001b[0m             \u001b[0mself\u001b[0m\u001b[1;33m.\u001b[0m\u001b[0mpatch\u001b[0m\u001b[1;33m.\u001b[0m\u001b[0mdraw\u001b[0m\u001b[1;33m(\u001b[0m\u001b[0mrenderer\u001b[0m\u001b[1;33m)\u001b[0m\u001b[1;33m\u001b[0m\u001b[1;33m\u001b[0m\u001b[0m\n\u001b[1;32m-> 1863\u001b[1;33m             mimage._draw_list_compositing_images(\n\u001b[0m\u001b[0;32m   1864\u001b[0m                 renderer, self, artists, self.suppressComposite)\n\u001b[0;32m   1865\u001b[0m \u001b[1;33m\u001b[0m\u001b[0m\n",
      "\u001b[1;32mC:\\ProgramData\\Anaconda3\\lib\\site-packages\\matplotlib\\image.py\u001b[0m in \u001b[0;36m_draw_list_compositing_images\u001b[1;34m(renderer, parent, artists, suppress_composite)\u001b[0m\n\u001b[0;32m    129\u001b[0m     \u001b[1;32mif\u001b[0m \u001b[0mnot_composite\u001b[0m \u001b[1;32mor\u001b[0m \u001b[1;32mnot\u001b[0m \u001b[0mhas_images\u001b[0m\u001b[1;33m:\u001b[0m\u001b[1;33m\u001b[0m\u001b[1;33m\u001b[0m\u001b[0m\n\u001b[0;32m    130\u001b[0m         \u001b[1;32mfor\u001b[0m \u001b[0ma\u001b[0m \u001b[1;32min\u001b[0m \u001b[0martists\u001b[0m\u001b[1;33m:\u001b[0m\u001b[1;33m\u001b[0m\u001b[1;33m\u001b[0m\u001b[0m\n\u001b[1;32m--> 131\u001b[1;33m             \u001b[0ma\u001b[0m\u001b[1;33m.\u001b[0m\u001b[0mdraw\u001b[0m\u001b[1;33m(\u001b[0m\u001b[0mrenderer\u001b[0m\u001b[1;33m)\u001b[0m\u001b[1;33m\u001b[0m\u001b[1;33m\u001b[0m\u001b[0m\n\u001b[0m\u001b[0;32m    132\u001b[0m     \u001b[1;32melse\u001b[0m\u001b[1;33m:\u001b[0m\u001b[1;33m\u001b[0m\u001b[1;33m\u001b[0m\u001b[0m\n\u001b[0;32m    133\u001b[0m         \u001b[1;31m# Composite any adjacent images together\u001b[0m\u001b[1;33m\u001b[0m\u001b[1;33m\u001b[0m\u001b[1;33m\u001b[0m\u001b[0m\n",
      "\u001b[1;32mC:\\ProgramData\\Anaconda3\\lib\\site-packages\\matplotlib\\artist.py\u001b[0m in \u001b[0;36mdraw_wrapper\u001b[1;34m(artist, renderer, *args, **kwargs)\u001b[0m\n\u001b[0;32m     39\u001b[0m                 \u001b[0mrenderer\u001b[0m\u001b[1;33m.\u001b[0m\u001b[0mstart_filter\u001b[0m\u001b[1;33m(\u001b[0m\u001b[1;33m)\u001b[0m\u001b[1;33m\u001b[0m\u001b[1;33m\u001b[0m\u001b[0m\n\u001b[0;32m     40\u001b[0m \u001b[1;33m\u001b[0m\u001b[0m\n\u001b[1;32m---> 41\u001b[1;33m             \u001b[1;32mreturn\u001b[0m \u001b[0mdraw\u001b[0m\u001b[1;33m(\u001b[0m\u001b[0martist\u001b[0m\u001b[1;33m,\u001b[0m \u001b[0mrenderer\u001b[0m\u001b[1;33m,\u001b[0m \u001b[1;33m*\u001b[0m\u001b[0margs\u001b[0m\u001b[1;33m,\u001b[0m \u001b[1;33m**\u001b[0m\u001b[0mkwargs\u001b[0m\u001b[1;33m)\u001b[0m\u001b[1;33m\u001b[0m\u001b[1;33m\u001b[0m\u001b[0m\n\u001b[0m\u001b[0;32m     42\u001b[0m         \u001b[1;32mfinally\u001b[0m\u001b[1;33m:\u001b[0m\u001b[1;33m\u001b[0m\u001b[1;33m\u001b[0m\u001b[0m\n\u001b[0;32m     43\u001b[0m             \u001b[1;32mif\u001b[0m \u001b[0martist\u001b[0m\u001b[1;33m.\u001b[0m\u001b[0mget_agg_filter\u001b[0m\u001b[1;33m(\u001b[0m\u001b[1;33m)\u001b[0m \u001b[1;32mis\u001b[0m \u001b[1;32mnot\u001b[0m \u001b[1;32mNone\u001b[0m\u001b[1;33m:\u001b[0m\u001b[1;33m\u001b[0m\u001b[1;33m\u001b[0m\u001b[0m\n",
      "\u001b[1;32mC:\\ProgramData\\Anaconda3\\lib\\site-packages\\matplotlib\\cbook\\deprecation.py\u001b[0m in \u001b[0;36mwrapper\u001b[1;34m(*inner_args, **inner_kwargs)\u001b[0m\n\u001b[0;32m    409\u001b[0m                          \u001b[1;32melse\u001b[0m \u001b[0mdeprecation_addendum\u001b[0m\u001b[1;33m,\u001b[0m\u001b[1;33m\u001b[0m\u001b[1;33m\u001b[0m\u001b[0m\n\u001b[0;32m    410\u001b[0m                 **kwargs)\n\u001b[1;32m--> 411\u001b[1;33m         \u001b[1;32mreturn\u001b[0m \u001b[0mfunc\u001b[0m\u001b[1;33m(\u001b[0m\u001b[1;33m*\u001b[0m\u001b[0minner_args\u001b[0m\u001b[1;33m,\u001b[0m \u001b[1;33m**\u001b[0m\u001b[0minner_kwargs\u001b[0m\u001b[1;33m)\u001b[0m\u001b[1;33m\u001b[0m\u001b[1;33m\u001b[0m\u001b[0m\n\u001b[0m\u001b[0;32m    412\u001b[0m \u001b[1;33m\u001b[0m\u001b[0m\n\u001b[0;32m    413\u001b[0m     \u001b[1;32mreturn\u001b[0m \u001b[0mwrapper\u001b[0m\u001b[1;33m\u001b[0m\u001b[1;33m\u001b[0m\u001b[0m\n",
      "\u001b[1;32mC:\\ProgramData\\Anaconda3\\lib\\site-packages\\matplotlib\\axes\\_base.py\u001b[0m in \u001b[0;36mdraw\u001b[1;34m(self, renderer, inframe)\u001b[0m\n\u001b[0;32m   2745\u001b[0m             \u001b[0mrenderer\u001b[0m\u001b[1;33m.\u001b[0m\u001b[0mstop_rasterizing\u001b[0m\u001b[1;33m(\u001b[0m\u001b[1;33m)\u001b[0m\u001b[1;33m\u001b[0m\u001b[1;33m\u001b[0m\u001b[0m\n\u001b[0;32m   2746\u001b[0m \u001b[1;33m\u001b[0m\u001b[0m\n\u001b[1;32m-> 2747\u001b[1;33m         \u001b[0mmimage\u001b[0m\u001b[1;33m.\u001b[0m\u001b[0m_draw_list_compositing_images\u001b[0m\u001b[1;33m(\u001b[0m\u001b[0mrenderer\u001b[0m\u001b[1;33m,\u001b[0m \u001b[0mself\u001b[0m\u001b[1;33m,\u001b[0m \u001b[0martists\u001b[0m\u001b[1;33m)\u001b[0m\u001b[1;33m\u001b[0m\u001b[1;33m\u001b[0m\u001b[0m\n\u001b[0m\u001b[0;32m   2748\u001b[0m \u001b[1;33m\u001b[0m\u001b[0m\n\u001b[0;32m   2749\u001b[0m         \u001b[0mrenderer\u001b[0m\u001b[1;33m.\u001b[0m\u001b[0mclose_group\u001b[0m\u001b[1;33m(\u001b[0m\u001b[1;34m'axes'\u001b[0m\u001b[1;33m)\u001b[0m\u001b[1;33m\u001b[0m\u001b[1;33m\u001b[0m\u001b[0m\n",
      "\u001b[1;32mC:\\ProgramData\\Anaconda3\\lib\\site-packages\\matplotlib\\image.py\u001b[0m in \u001b[0;36m_draw_list_compositing_images\u001b[1;34m(renderer, parent, artists, suppress_composite)\u001b[0m\n\u001b[0;32m    129\u001b[0m     \u001b[1;32mif\u001b[0m \u001b[0mnot_composite\u001b[0m \u001b[1;32mor\u001b[0m \u001b[1;32mnot\u001b[0m \u001b[0mhas_images\u001b[0m\u001b[1;33m:\u001b[0m\u001b[1;33m\u001b[0m\u001b[1;33m\u001b[0m\u001b[0m\n\u001b[0;32m    130\u001b[0m         \u001b[1;32mfor\u001b[0m \u001b[0ma\u001b[0m \u001b[1;32min\u001b[0m \u001b[0martists\u001b[0m\u001b[1;33m:\u001b[0m\u001b[1;33m\u001b[0m\u001b[1;33m\u001b[0m\u001b[0m\n\u001b[1;32m--> 131\u001b[1;33m             \u001b[0ma\u001b[0m\u001b[1;33m.\u001b[0m\u001b[0mdraw\u001b[0m\u001b[1;33m(\u001b[0m\u001b[0mrenderer\u001b[0m\u001b[1;33m)\u001b[0m\u001b[1;33m\u001b[0m\u001b[1;33m\u001b[0m\u001b[0m\n\u001b[0m\u001b[0;32m    132\u001b[0m     \u001b[1;32melse\u001b[0m\u001b[1;33m:\u001b[0m\u001b[1;33m\u001b[0m\u001b[1;33m\u001b[0m\u001b[0m\n\u001b[0;32m    133\u001b[0m         \u001b[1;31m# Composite any adjacent images together\u001b[0m\u001b[1;33m\u001b[0m\u001b[1;33m\u001b[0m\u001b[1;33m\u001b[0m\u001b[0m\n",
      "\u001b[1;32mC:\\ProgramData\\Anaconda3\\lib\\site-packages\\matplotlib\\artist.py\u001b[0m in \u001b[0;36mdraw_wrapper\u001b[1;34m(artist, renderer, *args, **kwargs)\u001b[0m\n\u001b[0;32m     39\u001b[0m                 \u001b[0mrenderer\u001b[0m\u001b[1;33m.\u001b[0m\u001b[0mstart_filter\u001b[0m\u001b[1;33m(\u001b[0m\u001b[1;33m)\u001b[0m\u001b[1;33m\u001b[0m\u001b[1;33m\u001b[0m\u001b[0m\n\u001b[0;32m     40\u001b[0m \u001b[1;33m\u001b[0m\u001b[0m\n\u001b[1;32m---> 41\u001b[1;33m             \u001b[1;32mreturn\u001b[0m \u001b[0mdraw\u001b[0m\u001b[1;33m(\u001b[0m\u001b[0martist\u001b[0m\u001b[1;33m,\u001b[0m \u001b[0mrenderer\u001b[0m\u001b[1;33m,\u001b[0m \u001b[1;33m*\u001b[0m\u001b[0margs\u001b[0m\u001b[1;33m,\u001b[0m \u001b[1;33m**\u001b[0m\u001b[0mkwargs\u001b[0m\u001b[1;33m)\u001b[0m\u001b[1;33m\u001b[0m\u001b[1;33m\u001b[0m\u001b[0m\n\u001b[0m\u001b[0;32m     42\u001b[0m         \u001b[1;32mfinally\u001b[0m\u001b[1;33m:\u001b[0m\u001b[1;33m\u001b[0m\u001b[1;33m\u001b[0m\u001b[0m\n\u001b[0;32m     43\u001b[0m             \u001b[1;32mif\u001b[0m \u001b[0martist\u001b[0m\u001b[1;33m.\u001b[0m\u001b[0mget_agg_filter\u001b[0m\u001b[1;33m(\u001b[0m\u001b[1;33m)\u001b[0m \u001b[1;32mis\u001b[0m \u001b[1;32mnot\u001b[0m \u001b[1;32mNone\u001b[0m\u001b[1;33m:\u001b[0m\u001b[1;33m\u001b[0m\u001b[1;33m\u001b[0m\u001b[0m\n",
      "\u001b[1;32mC:\\ProgramData\\Anaconda3\\lib\\site-packages\\matplotlib\\axis.py\u001b[0m in \u001b[0;36mdraw\u001b[1;34m(self, renderer, *args, **kwargs)\u001b[0m\n\u001b[0;32m   1174\u001b[0m         \u001b[1;31m# the actual bbox\u001b[0m\u001b[1;33m\u001b[0m\u001b[1;33m\u001b[0m\u001b[1;33m\u001b[0m\u001b[0m\n\u001b[0;32m   1175\u001b[0m \u001b[1;33m\u001b[0m\u001b[0m\n\u001b[1;32m-> 1176\u001b[1;33m         \u001b[0mself\u001b[0m\u001b[1;33m.\u001b[0m\u001b[0m_update_label_position\u001b[0m\u001b[1;33m(\u001b[0m\u001b[0mrenderer\u001b[0m\u001b[1;33m)\u001b[0m\u001b[1;33m\u001b[0m\u001b[1;33m\u001b[0m\u001b[0m\n\u001b[0m\u001b[0;32m   1177\u001b[0m \u001b[1;33m\u001b[0m\u001b[0m\n\u001b[0;32m   1178\u001b[0m         \u001b[0mself\u001b[0m\u001b[1;33m.\u001b[0m\u001b[0mlabel\u001b[0m\u001b[1;33m.\u001b[0m\u001b[0mdraw\u001b[0m\u001b[1;33m(\u001b[0m\u001b[0mrenderer\u001b[0m\u001b[1;33m)\u001b[0m\u001b[1;33m\u001b[0m\u001b[1;33m\u001b[0m\u001b[0m\n",
      "\u001b[1;32mC:\\ProgramData\\Anaconda3\\lib\\site-packages\\matplotlib\\axis.py\u001b[0m in \u001b[0;36m_update_label_position\u001b[1;34m(self, renderer)\u001b[0m\n\u001b[0;32m   2056\u001b[0m         \u001b[1;31m# get bounding boxes for this axis and any siblings\u001b[0m\u001b[1;33m\u001b[0m\u001b[1;33m\u001b[0m\u001b[1;33m\u001b[0m\u001b[0m\n\u001b[0;32m   2057\u001b[0m         \u001b[1;31m# that have been set by `fig.align_xlabels()`\u001b[0m\u001b[1;33m\u001b[0m\u001b[1;33m\u001b[0m\u001b[1;33m\u001b[0m\u001b[0m\n\u001b[1;32m-> 2058\u001b[1;33m         \u001b[0mbboxes\u001b[0m\u001b[1;33m,\u001b[0m \u001b[0mbboxes2\u001b[0m \u001b[1;33m=\u001b[0m \u001b[0mself\u001b[0m\u001b[1;33m.\u001b[0m\u001b[0m_get_tick_boxes_siblings\u001b[0m\u001b[1;33m(\u001b[0m\u001b[0mrenderer\u001b[0m\u001b[1;33m=\u001b[0m\u001b[0mrenderer\u001b[0m\u001b[1;33m)\u001b[0m\u001b[1;33m\u001b[0m\u001b[1;33m\u001b[0m\u001b[0m\n\u001b[0m\u001b[0;32m   2059\u001b[0m \u001b[1;33m\u001b[0m\u001b[0m\n\u001b[0;32m   2060\u001b[0m         \u001b[0mx\u001b[0m\u001b[1;33m,\u001b[0m \u001b[0my\u001b[0m \u001b[1;33m=\u001b[0m \u001b[0mself\u001b[0m\u001b[1;33m.\u001b[0m\u001b[0mlabel\u001b[0m\u001b[1;33m.\u001b[0m\u001b[0mget_position\u001b[0m\u001b[1;33m(\u001b[0m\u001b[1;33m)\u001b[0m\u001b[1;33m\u001b[0m\u001b[1;33m\u001b[0m\u001b[0m\n",
      "\u001b[1;32mC:\\ProgramData\\Anaconda3\\lib\\site-packages\\matplotlib\\axis.py\u001b[0m in \u001b[0;36m_get_tick_boxes_siblings\u001b[1;34m(self, renderer)\u001b[0m\n\u001b[0;32m   2041\u001b[0m         \u001b[1;32mfor\u001b[0m \u001b[0mnn\u001b[0m\u001b[1;33m,\u001b[0m \u001b[0maxx\u001b[0m \u001b[1;32min\u001b[0m \u001b[0menumerate\u001b[0m\u001b[1;33m(\u001b[0m\u001b[0mgrp\u001b[0m\u001b[1;33m.\u001b[0m\u001b[0mget_siblings\u001b[0m\u001b[1;33m(\u001b[0m\u001b[0mself\u001b[0m\u001b[1;33m.\u001b[0m\u001b[0maxes\u001b[0m\u001b[1;33m)\u001b[0m\u001b[1;33m)\u001b[0m\u001b[1;33m:\u001b[0m\u001b[1;33m\u001b[0m\u001b[1;33m\u001b[0m\u001b[0m\n\u001b[0;32m   2042\u001b[0m             \u001b[0mticks_to_draw\u001b[0m \u001b[1;33m=\u001b[0m \u001b[0maxx\u001b[0m\u001b[1;33m.\u001b[0m\u001b[0mxaxis\u001b[0m\u001b[1;33m.\u001b[0m\u001b[0m_update_ticks\u001b[0m\u001b[1;33m(\u001b[0m\u001b[1;33m)\u001b[0m\u001b[1;33m\u001b[0m\u001b[1;33m\u001b[0m\u001b[0m\n\u001b[1;32m-> 2043\u001b[1;33m             \u001b[0mtlb\u001b[0m\u001b[1;33m,\u001b[0m \u001b[0mtlb2\u001b[0m \u001b[1;33m=\u001b[0m \u001b[0maxx\u001b[0m\u001b[1;33m.\u001b[0m\u001b[0mxaxis\u001b[0m\u001b[1;33m.\u001b[0m\u001b[0m_get_tick_bboxes\u001b[0m\u001b[1;33m(\u001b[0m\u001b[0mticks_to_draw\u001b[0m\u001b[1;33m,\u001b[0m \u001b[0mrenderer\u001b[0m\u001b[1;33m)\u001b[0m\u001b[1;33m\u001b[0m\u001b[1;33m\u001b[0m\u001b[0m\n\u001b[0m\u001b[0;32m   2044\u001b[0m             \u001b[0mbboxes\u001b[0m\u001b[1;33m.\u001b[0m\u001b[0mextend\u001b[0m\u001b[1;33m(\u001b[0m\u001b[0mtlb\u001b[0m\u001b[1;33m)\u001b[0m\u001b[1;33m\u001b[0m\u001b[1;33m\u001b[0m\u001b[0m\n\u001b[0;32m   2045\u001b[0m             \u001b[0mbboxes2\u001b[0m\u001b[1;33m.\u001b[0m\u001b[0mextend\u001b[0m\u001b[1;33m(\u001b[0m\u001b[0mtlb2\u001b[0m\u001b[1;33m)\u001b[0m\u001b[1;33m\u001b[0m\u001b[1;33m\u001b[0m\u001b[0m\n",
      "\u001b[1;32mC:\\ProgramData\\Anaconda3\\lib\\site-packages\\matplotlib\\axis.py\u001b[0m in \u001b[0;36m_get_tick_bboxes\u001b[1;34m(self, ticks, renderer)\u001b[0m\n\u001b[0;32m   1091\u001b[0m         return ([tick.label1.get_window_extent(renderer)\n\u001b[0;32m   1092\u001b[0m                  for tick in ticks if tick.label1.get_visible()],\n\u001b[1;32m-> 1093\u001b[1;33m                 [tick.label2.get_window_extent(renderer)\n\u001b[0m\u001b[0;32m   1094\u001b[0m                  for tick in ticks if tick.label2.get_visible()])\n\u001b[0;32m   1095\u001b[0m \u001b[1;33m\u001b[0m\u001b[0m\n",
      "\u001b[1;32mC:\\ProgramData\\Anaconda3\\lib\\site-packages\\matplotlib\\axis.py\u001b[0m in \u001b[0;36m<listcomp>\u001b[1;34m(.0)\u001b[0m\n\u001b[0;32m   1091\u001b[0m         return ([tick.label1.get_window_extent(renderer)\n\u001b[0;32m   1092\u001b[0m                  for tick in ticks if tick.label1.get_visible()],\n\u001b[1;32m-> 1093\u001b[1;33m                 [tick.label2.get_window_extent(renderer)\n\u001b[0m\u001b[0;32m   1094\u001b[0m                  for tick in ticks if tick.label2.get_visible()])\n\u001b[0;32m   1095\u001b[0m \u001b[1;33m\u001b[0m\u001b[0m\n",
      "\u001b[1;32mC:\\ProgramData\\Anaconda3\\lib\\site-packages\\matplotlib\\text.py\u001b[0m in \u001b[0;36mget_window_extent\u001b[1;34m(self, renderer, dpi)\u001b[0m\n\u001b[0;32m    887\u001b[0m         \u001b[1;32mif\u001b[0m \u001b[0mself\u001b[0m\u001b[1;33m.\u001b[0m\u001b[0mget_text\u001b[0m\u001b[1;33m(\u001b[0m\u001b[1;33m)\u001b[0m \u001b[1;33m==\u001b[0m \u001b[1;34m''\u001b[0m\u001b[1;33m:\u001b[0m\u001b[1;33m\u001b[0m\u001b[1;33m\u001b[0m\u001b[0m\n\u001b[0;32m    888\u001b[0m             \u001b[1;32mwith\u001b[0m \u001b[0mcbook\u001b[0m\u001b[1;33m.\u001b[0m\u001b[0m_setattr_cm\u001b[0m\u001b[1;33m(\u001b[0m\u001b[0mself\u001b[0m\u001b[1;33m.\u001b[0m\u001b[0mfigure\u001b[0m\u001b[1;33m,\u001b[0m \u001b[0mdpi\u001b[0m\u001b[1;33m=\u001b[0m\u001b[0mdpi\u001b[0m\u001b[1;33m)\u001b[0m\u001b[1;33m:\u001b[0m\u001b[1;33m\u001b[0m\u001b[1;33m\u001b[0m\u001b[0m\n\u001b[1;32m--> 889\u001b[1;33m                 \u001b[0mtx\u001b[0m\u001b[1;33m,\u001b[0m \u001b[0mty\u001b[0m \u001b[1;33m=\u001b[0m \u001b[0mself\u001b[0m\u001b[1;33m.\u001b[0m\u001b[0m_get_xy_display\u001b[0m\u001b[1;33m(\u001b[0m\u001b[1;33m)\u001b[0m\u001b[1;33m\u001b[0m\u001b[1;33m\u001b[0m\u001b[0m\n\u001b[0m\u001b[0;32m    890\u001b[0m                 \u001b[1;32mreturn\u001b[0m \u001b[0mBbox\u001b[0m\u001b[1;33m.\u001b[0m\u001b[0mfrom_bounds\u001b[0m\u001b[1;33m(\u001b[0m\u001b[0mtx\u001b[0m\u001b[1;33m,\u001b[0m \u001b[0mty\u001b[0m\u001b[1;33m,\u001b[0m \u001b[1;36m0\u001b[0m\u001b[1;33m,\u001b[0m \u001b[1;36m0\u001b[0m\u001b[1;33m)\u001b[0m\u001b[1;33m\u001b[0m\u001b[1;33m\u001b[0m\u001b[0m\n\u001b[0;32m    891\u001b[0m \u001b[1;33m\u001b[0m\u001b[0m\n",
      "\u001b[1;32mC:\\ProgramData\\Anaconda3\\lib\\site-packages\\matplotlib\\text.py\u001b[0m in \u001b[0;36m_get_xy_display\u001b[1;34m(self)\u001b[0m\n\u001b[0;32m    219\u001b[0m         \"\"\"\n\u001b[0;32m    220\u001b[0m         \u001b[0mx\u001b[0m\u001b[1;33m,\u001b[0m \u001b[0my\u001b[0m \u001b[1;33m=\u001b[0m \u001b[0mself\u001b[0m\u001b[1;33m.\u001b[0m\u001b[0mget_unitless_position\u001b[0m\u001b[1;33m(\u001b[0m\u001b[1;33m)\u001b[0m\u001b[1;33m\u001b[0m\u001b[1;33m\u001b[0m\u001b[0m\n\u001b[1;32m--> 221\u001b[1;33m         \u001b[1;32mreturn\u001b[0m \u001b[0mself\u001b[0m\u001b[1;33m.\u001b[0m\u001b[0mget_transform\u001b[0m\u001b[1;33m(\u001b[0m\u001b[1;33m)\u001b[0m\u001b[1;33m.\u001b[0m\u001b[0mtransform\u001b[0m\u001b[1;33m(\u001b[0m\u001b[1;33m(\u001b[0m\u001b[0mx\u001b[0m\u001b[1;33m,\u001b[0m \u001b[0my\u001b[0m\u001b[1;33m)\u001b[0m\u001b[1;33m)\u001b[0m\u001b[1;33m\u001b[0m\u001b[1;33m\u001b[0m\u001b[0m\n\u001b[0m\u001b[0;32m    222\u001b[0m \u001b[1;33m\u001b[0m\u001b[0m\n\u001b[0;32m    223\u001b[0m     \u001b[1;32mdef\u001b[0m \u001b[0m_get_multialignment\u001b[0m\u001b[1;33m(\u001b[0m\u001b[0mself\u001b[0m\u001b[1;33m)\u001b[0m\u001b[1;33m:\u001b[0m\u001b[1;33m\u001b[0m\u001b[1;33m\u001b[0m\u001b[0m\n",
      "\u001b[1;32mC:\\ProgramData\\Anaconda3\\lib\\site-packages\\matplotlib\\transforms.py\u001b[0m in \u001b[0;36mtransform\u001b[1;34m(self, values)\u001b[0m\n\u001b[0;32m   1420\u001b[0m \u001b[1;33m\u001b[0m\u001b[0m\n\u001b[0;32m   1421\u001b[0m         \u001b[1;31m# Transform the values\u001b[0m\u001b[1;33m\u001b[0m\u001b[1;33m\u001b[0m\u001b[1;33m\u001b[0m\u001b[0m\n\u001b[1;32m-> 1422\u001b[1;33m         \u001b[0mres\u001b[0m \u001b[1;33m=\u001b[0m \u001b[0mself\u001b[0m\u001b[1;33m.\u001b[0m\u001b[0mtransform_affine\u001b[0m\u001b[1;33m(\u001b[0m\u001b[0mself\u001b[0m\u001b[1;33m.\u001b[0m\u001b[0mtransform_non_affine\u001b[0m\u001b[1;33m(\u001b[0m\u001b[0mvalues\u001b[0m\u001b[1;33m)\u001b[0m\u001b[1;33m)\u001b[0m\u001b[1;33m\u001b[0m\u001b[1;33m\u001b[0m\u001b[0m\n\u001b[0m\u001b[0;32m   1423\u001b[0m \u001b[1;33m\u001b[0m\u001b[0m\n\u001b[0;32m   1424\u001b[0m         \u001b[1;31m# Convert the result back to the shape of the input values.\u001b[0m\u001b[1;33m\u001b[0m\u001b[1;33m\u001b[0m\u001b[1;33m\u001b[0m\u001b[0m\n",
      "\u001b[1;32mC:\\ProgramData\\Anaconda3\\lib\\site-packages\\matplotlib\\transforms.py\u001b[0m in \u001b[0;36mtransform_affine\u001b[1;34m(self, points)\u001b[0m\n\u001b[0;32m   2342\u001b[0m     \u001b[1;32mdef\u001b[0m \u001b[0mtransform_affine\u001b[0m\u001b[1;33m(\u001b[0m\u001b[0mself\u001b[0m\u001b[1;33m,\u001b[0m \u001b[0mpoints\u001b[0m\u001b[1;33m)\u001b[0m\u001b[1;33m:\u001b[0m\u001b[1;33m\u001b[0m\u001b[1;33m\u001b[0m\u001b[0m\n\u001b[0;32m   2343\u001b[0m         \u001b[1;31m# docstring inherited\u001b[0m\u001b[1;33m\u001b[0m\u001b[1;33m\u001b[0m\u001b[1;33m\u001b[0m\u001b[0m\n\u001b[1;32m-> 2344\u001b[1;33m         \u001b[1;32mreturn\u001b[0m \u001b[0mself\u001b[0m\u001b[1;33m.\u001b[0m\u001b[0mget_affine\u001b[0m\u001b[1;33m(\u001b[0m\u001b[1;33m)\u001b[0m\u001b[1;33m.\u001b[0m\u001b[0mtransform\u001b[0m\u001b[1;33m(\u001b[0m\u001b[0mpoints\u001b[0m\u001b[1;33m)\u001b[0m\u001b[1;33m\u001b[0m\u001b[1;33m\u001b[0m\u001b[0m\n\u001b[0m\u001b[0;32m   2345\u001b[0m \u001b[1;33m\u001b[0m\u001b[0m\n\u001b[0;32m   2346\u001b[0m     \u001b[1;32mdef\u001b[0m \u001b[0mtransform_non_affine\u001b[0m\u001b[1;33m(\u001b[0m\u001b[0mself\u001b[0m\u001b[1;33m,\u001b[0m \u001b[0mpoints\u001b[0m\u001b[1;33m)\u001b[0m\u001b[1;33m:\u001b[0m\u001b[1;33m\u001b[0m\u001b[1;33m\u001b[0m\u001b[0m\n",
      "\u001b[1;32mC:\\ProgramData\\Anaconda3\\lib\\site-packages\\matplotlib\\transforms.py\u001b[0m in \u001b[0;36mget_affine\u001b[1;34m(self)\u001b[0m\n\u001b[0;32m   2369\u001b[0m             \u001b[1;32mreturn\u001b[0m \u001b[0mself\u001b[0m\u001b[1;33m.\u001b[0m\u001b[0m_b\u001b[0m\u001b[1;33m.\u001b[0m\u001b[0mget_affine\u001b[0m\u001b[1;33m(\u001b[0m\u001b[1;33m)\u001b[0m\u001b[1;33m\u001b[0m\u001b[1;33m\u001b[0m\u001b[0m\n\u001b[0;32m   2370\u001b[0m         \u001b[1;32melse\u001b[0m\u001b[1;33m:\u001b[0m\u001b[1;33m\u001b[0m\u001b[1;33m\u001b[0m\u001b[0m\n\u001b[1;32m-> 2371\u001b[1;33m             return Affine2D(np.dot(self._b.get_affine().get_matrix(),\n\u001b[0m\u001b[0;32m   2372\u001b[0m                                    self._a.get_affine().get_matrix()))\n\u001b[0;32m   2373\u001b[0m \u001b[1;33m\u001b[0m\u001b[0m\n",
      "\u001b[1;32m<__array_function__ internals>\u001b[0m in \u001b[0;36mdot\u001b[1;34m(*args, **kwargs)\u001b[0m\n",
      "\u001b[1;31mKeyboardInterrupt\u001b[0m: "
     ]
    }
   ],
   "source": [
    "make_layout_tc (df_data, XRD_coredata, TC_coredata)"
   ]
  },
  {
   "cell_type": "markdown",
   "metadata": {
    "iooxa": {
     "id": {
      "block": "F5VrDeK8mhbuRvwFIBOG",
      "project": "anKPrTxY08dBACBwy7Ui",
      "version": 1
     }
    }
   },
   "source": [
    "### Using Seaborn we will visualized the distribution and some statistict of basic logs - MOVER ARRIBA!!!!\n",
    "\n"
   ]
  },
  {
   "cell_type": "code",
   "execution_count": null,
   "metadata": {
    "iooxa": {
     "id": {
      "block": "c1eEZ46kAr3yQWPzKwZh",
      "project": "anKPrTxY08dBACBwy7Ui",
      "version": 1
     },
     "outputId": null
    }
   },
   "outputs": [],
   "source": [
    "#below we are building a data frame with selected columns from the file we have read\n",
    "X=df_data[['GR','RHOZ','NPHI','AT90']]"
   ]
  },
  {
   "cell_type": "code",
   "execution_count": null,
   "metadata": {},
   "outputs": [],
   "source": [
    "#Cleaning and QC, convert data to nice looking - quitar los negativos\n",
    "\n",
    "X[X<0]= 0"
   ]
  },
  {
   "cell_type": "code",
   "execution_count": null,
   "metadata": {
    "iooxa": {
     "id": {
      "block": "DXyNFHJcBxR9L9SUiTrl",
      "project": "anKPrTxY08dBACBwy7Ui",
      "version": 1
     },
     "outputId": {
      "block": "yw1SFb2eRh0YPgQh6tmS",
      "project": "anKPrTxY08dBACBwy7Ui",
      "version": 1
     }
    }
   },
   "outputs": [],
   "source": [
    "#plottign the statistic using Seaborn\n",
    "color = ['#2ea869', '#0a0a0a', '#ea0606','#1577e0', '#6e787c','#ea0606', \n",
    "         '#ed8712']\n",
    "sns.set(font_scale=1)\n",
    "cols = X.columns\n",
    "n_row = len(cols)\n",
    "n_col = 2\n",
    "n_sub = 1\n",
    "fig = plt.figure(figsize=(10,20))\n",
    "for i in range(len(cols)):\n",
    "    plt.subplots_adjust(left=-0.3, right=1.3, bottom=-0.3, top=1.3)\n",
    "    plt.subplot(n_row, n_col, n_sub)\n",
    "    sns.distplot(X[cols[i]],norm_hist=False,kde=False, color=color[i],\n",
    "                 label=['mean '+str('{:.2f}'.format(X.iloc[:,i].mean()))\n",
    "                        +'\\n''std '+str('{:.2f}'.format(X.iloc[:,i].std()))\n",
    "                        +'\\n''min '+str('{:.2f}'.format(X.iloc[:,i].min()))\n",
    "                        +'\\n''max '+str('{:.2f}'.format(X.iloc[:,i].max()))])                                                        \n",
    "    n_sub+=1\n",
    "    plt.legend()\n",
    "plt.show()"
   ]
  },
  {
   "cell_type": "code",
   "execution_count": null,
   "metadata": {},
   "outputs": [],
   "source": []
  }
 ],
 "metadata": {
  "iooxa": {
   "id": {
    "block": "ZtKQWtNCh8q562sepRFa",
    "project": "jmLUJUny6DwCVenM0KrQ",
    "version": 1
   }
  },
  "kernelspec": {
   "display_name": "Python 3",
   "language": "python",
   "name": "python3"
  },
  "language_info": {
   "codemirror_mode": {
    "name": "ipython",
    "version": 3
   },
   "file_extension": ".py",
   "mimetype": "text/x-python",
   "name": "python",
   "nbconvert_exporter": "python",
   "pygments_lexer": "ipython3",
   "version": "3.8.5"
  }
 },
 "nbformat": 4,
 "nbformat_minor": 4
}

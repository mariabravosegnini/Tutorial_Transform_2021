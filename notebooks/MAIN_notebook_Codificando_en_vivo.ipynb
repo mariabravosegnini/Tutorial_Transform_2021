{
 "cells": [
  {
   "cell_type": "markdown",
   "metadata": {
    "iooxa": {
     "id": {
      "block": "ljl07JNYSrIXE70uWYO0",
      "project": "anKPrTxY08dBACBwy7Ui",
      "version": 1
     }
    }
   },
   "source": [
    "## UTAH FORGE WELL 58-32\n",
    "\n",
    "**Well 58-32 was drilled to a depth of 7536 feet** in the Milford FORGE area during the summer of\n",
    "2017 to confirm the reservoir characteristics inferred from existing wells and a wide variety of\n",
    "both new and legacy geologic and geophysical data. **Drill cuttings were collected and described\n",
    "at 10-foot intervals** and a robust **suite of geophysical logs** were run. Analyses show\n",
    "that the basement rock within the FORGE area consists of a suite of **intrusive rock types that are\n",
    "primarily granitic. Some diorite and monzodiorite was also encountered**, as was a significant\n",
    "volume of rock with a more intermediate composition.\n",
    "\n",
    "The density of the granite and intermediate rock types typically range from **2.6 to\n",
    "2.65 g/cm³**, but the higher gamma response of the **granitic rock (140–290 gAPI)** can often\n",
    "differentiate granitic compositions from **intermediate compositions (70–210 gAPI).** The **higher\n",
    "density (2.7–3.0 g/cm³) and lower gamma values (50–80 gAPI) of the dioritic compositions** is\n",
    "more distinctive and greatly simplifies identification. \n",
    "\n",
    "The various laboratory analyses and geophysical logs of the 58-32 well prove it was drilled into **low porosity/low permeability intrusive rock** with temperatures well within the U.S. Department of Energy-specified window of **175°–225°C (347°–437°F).** More details here https://utahforge.com/\n",
    " "
   ]
  },
  {
   "cell_type": "markdown",
   "metadata": {},
   "source": [
    "### Let's import the libraries, remember Lasio and Seaborn must be installed previously"
   ]
  },
  {
   "cell_type": "code",
   "execution_count": null,
   "metadata": {
    "iooxa": {
     "id": {
      "block": "bCoQ217Se5IoWzAvnM6x",
      "project": "anKPrTxY08dBACBwy7Ui",
      "version": 1
     },
     "outputId": null
    }
   },
   "outputs": [],
   "source": [
    "import lasio\n",
    "import pandas as pd\n",
    "import numpy as np\n",
    "#libraries for plots\n",
    "import matplotlib.pyplot as plt\n",
    "import seaborn as sns\n",
    "#to avoid warnings to show up\n",
    "import warnings\n",
    "warnings.filterwarnings('ignore')"
   ]
  },
  {
   "cell_type": "markdown",
   "metadata": {
    "iooxa": {
     "id": {
      "block": "NJ3M1nBKUzM2AXbRaoeZ",
      "project": "anKPrTxY08dBACBwy7Ui",
      "version": 1
     }
    }
   },
   "source": [
    "### Read 58-32 well logs with Lasio and inspect"
   ]
  },
  {
   "cell_type": "code",
   "execution_count": null,
   "metadata": {
    "iooxa": {
     "id": {
      "block": "Z6bDDyAUxa2TGPCk6ENW",
      "project": "anKPrTxY08dBACBwy7Ui",
      "version": 1
     },
     "outputId": null
    }
   },
   "outputs": [],
   "source": [
    "reg_all = lasio.read('../alldata/58-32_main.las')"
   ]
  },
  {
   "cell_type": "code",
   "execution_count": null,
   "metadata": {},
   "outputs": [],
   "source": [
    "reg_all.version"
   ]
  },
  {
   "cell_type": "code",
   "execution_count": null,
   "metadata": {},
   "outputs": [],
   "source": [
    "reg_all.curves"
   ]
  },
  {
   "cell_type": "code",
   "execution_count": null,
   "metadata": {},
   "outputs": [],
   "source": [
    "reg_all.data"
   ]
  },
  {
   "cell_type": "code",
   "execution_count": null,
   "metadata": {},
   "outputs": [],
   "source": [
    "reg_all.keys()"
   ]
  },
  {
   "cell_type": "code",
   "execution_count": null,
   "metadata": {},
   "outputs": [],
   "source": [
    "reg_all['SP']"
   ]
  },
  {
   "cell_type": "markdown",
   "metadata": {
    "iooxa": {
     "id": {
      "block": "dAR1AgfP4yyfzpXCRpNS",
      "project": "anKPrTxY08dBACBwy7Ui",
      "version": 1
     }
    }
   },
   "source": [
    "### From Lasio to Data Frame Pandas\n",
    "DataFrames in Pandas are two-dimensional tables with row and columns that can be easily edited and manipulated. "
   ]
  },
  {
   "cell_type": "code",
   "execution_count": null,
   "metadata": {},
   "outputs": [],
   "source": [
    "df_main = reg_all.df()\n",
    "df_main"
   ]
  },
  {
   "cell_type": "code",
   "execution_count": null,
   "metadata": {
    "iooxa": {
     "id": {
      "block": "uUC9Yb53FupxOfbextPD",
      "project": "anKPrTxY08dBACBwy7Ui",
      "version": 1
     },
     "outputId": {
      "block": "kdODK2dt28SaDB27bDxB",
      "project": "anKPrTxY08dBACBwy7Ui",
      "version": 1
     }
    }
   },
   "outputs": [],
   "source": [
    "#Print the first 5 rows of the data frame with the header of the columns\n",
    "df_main.head(5)"
   ]
  },
  {
   "cell_type": "code",
   "execution_count": null,
   "metadata": {},
   "outputs": [],
   "source": [
    "#Print the last 10 rows of the data frame with the header of the columns\n",
    "df_main.tail(10)"
   ]
  },
  {
   "cell_type": "code",
   "execution_count": null,
   "metadata": {},
   "outputs": [],
   "source": [
    "# statistics\n",
    "df_main.describe()"
   ]
  },
  {
   "cell_type": "code",
   "execution_count": null,
   "metadata": {},
   "outputs": [],
   "source": [
    "#parameters from only 1 column \n",
    "df_main.AF10.std()"
   ]
  },
  {
   "cell_type": "markdown",
   "metadata": {},
   "source": [
    "### Create a dataset only with GR, SP, AT10, AT90, RHOZ, NPHI, CTEM"
   ]
  },
  {
   "cell_type": "code",
   "execution_count": null,
   "metadata": {},
   "outputs": [],
   "source": [
    "df_mini = df_main[['GR', 'SP', 'AT10', 'AT90', 'RHOZ', 'NPHI', 'CTEM']]"
   ]
  },
  {
   "cell_type": "code",
   "execution_count": null,
   "metadata": {},
   "outputs": [],
   "source": [
    "df_mini.describe()"
   ]
  },
  {
   "cell_type": "code",
   "execution_count": null,
   "metadata": {},
   "outputs": [],
   "source": [
    "df_mini['CTEM_C']= ((df_mini['CTEM']-32)*5)/9"
   ]
  },
  {
   "cell_type": "code",
   "execution_count": null,
   "metadata": {},
   "outputs": [],
   "source": [
    "df_mini.info()"
   ]
  },
  {
   "cell_type": "code",
   "execution_count": null,
   "metadata": {},
   "outputs": [],
   "source": [
    "count_neg = (df_mini.RHOZ < 0).sum()\n",
    "count_neg"
   ]
  },
  {
   "cell_type": "code",
   "execution_count": null,
   "metadata": {},
   "outputs": [],
   "source": [
    "df_mini.loc[(df_mini['RHOZ'] < 0), 'RHOZ']=np.nan"
   ]
  },
  {
   "cell_type": "code",
   "execution_count": null,
   "metadata": {},
   "outputs": [],
   "source": [
    "count_neg = (df_mini.RHOZ < 0).sum()\n",
    "count_neg"
   ]
  },
  {
   "cell_type": "markdown",
   "metadata": {},
   "source": [
    "**Unknown LowGR (<50)\n",
    "**Dioritic comp. (50–80 gAPI)\n",
    "**Intermediate comp. (80–140 gAPI)\n",
    "**Granite (140–290 gAPI)\n",
    "**Unknown HighGR(>290)"
   ]
  },
  {
   "cell_type": "code",
   "execution_count": null,
   "metadata": {},
   "outputs": [],
   "source": [
    "conditions = [\n",
    "    (df_mini['GR'] <= 50),\n",
    "    (df_mini['GR'] > 50) & (df_mini['GR'] <= 80),\n",
    "    (df_mini['GR'] > 80) & (df_mini['GR'] <= 140),\n",
    "    (df_mini['GR'] > 140) & (df_mini['GR'] <= 290),\n",
    "    (df_mini['GR'] > 290)\n",
    "    ]\n",
    "\n",
    "# create a list of the values we want to assign for each condition\n",
    "values = ['Unknown LowGR', 'Dioritic Comp', 'Intermediate Comp', 'Granite', 'Unknown HighGR' ]\n",
    "\n",
    "# create a new column and use np.select to assign values to it using our lists as arguments\n",
    "df_mini['Labels'] = np.select(conditions, values)"
   ]
  },
  {
   "cell_type": "code",
   "execution_count": null,
   "metadata": {},
   "outputs": [],
   "source": [
    "df_mini.sample(10)"
   ]
  },
  {
   "cell_type": "code",
   "execution_count": null,
   "metadata": {},
   "outputs": [],
   "source": [
    "#statistics grouped by Labels \n",
    "\n",
    "df_mini[['Labels','GR', 'SP', 'AT10', 'AT90', 'RHOZ', 'NPHI', 'CTEM', 'CTEM_C']].groupby('Labels').mean()"
   ]
  },
  {
   "cell_type": "markdown",
   "metadata": {
    "iooxa": {
     "id": {
      "block": "jWnAnS4nJBZrB2ELssCF",
      "project": "anKPrTxY08dBACBwy7Ui",
      "version": 1
     }
    }
   },
   "source": [
    "### Read Thermal conductivity and mineralogy data measured in drill cuttings. CAUTION: Depths are in meters, need to be converted to feet\n",
    "##### Full report https://ugspub.nr.utah.gov/publications/misc_pubs/mp-169/mp-169-l.pdf"
   ]
  },
  {
   "cell_type": "code",
   "execution_count": null,
   "metadata": {},
   "outputs": [],
   "source": [
    "TC_coredata = pd.read_csv ('../alldata/58-32_thermal_conductivity_data.csv', index_col=1)\n",
    "XRD_coredata = pd.read_csv ('../alldata/58-32_xray_diffraction_data.csv', index_col=1)\n",
    "\n",
    "#TC_coredata.head()\n",
    "XRD_coredata.columns"
   ]
  },
  {
   "cell_type": "code",
   "execution_count": null,
   "metadata": {},
   "outputs": [],
   "source": [
    "TC_coredata.index"
   ]
  },
  {
   "cell_type": "code",
   "execution_count": null,
   "metadata": {},
   "outputs": [],
   "source": [
    "XRD_coredata.index"
   ]
  },
  {
   "cell_type": "code",
   "execution_count": null,
   "metadata": {},
   "outputs": [],
   "source": [
    "result = pd.concat([XRD_coredata, TC_coredata], axis=1, sort=False)"
   ]
  },
  {
   "cell_type": "code",
   "execution_count": null,
   "metadata": {},
   "outputs": [],
   "source": [
    "result.columns"
   ]
  },
  {
   "cell_type": "code",
   "execution_count": null,
   "metadata": {},
   "outputs": [],
   "source": [
    "cutt_data = result[['Illite','Plagioclase', 'K-feldspar', \n",
    "                    'Quartz', 'matrix thermal conductivity (W/m deg C)']]"
   ]
  },
  {
   "cell_type": "code",
   "execution_count": null,
   "metadata": {},
   "outputs": [],
   "source": [
    "cutt_data.index=(3.28084*cutt_data.index) #m to ft\n",
    "#cutt_data.loc[(cutt_data =='tr')]=np.nan\n",
    "cutt_data=cutt_data.replace('tr', np.nan)\n",
    "cutt_data.columns=['Illi', 'Plag', 'K-feld', 'Qz', 'TC']\n"
   ]
  },
  {
   "cell_type": "code",
   "execution_count": null,
   "metadata": {},
   "outputs": [],
   "source": [
    "cutt_data.info()"
   ]
  },
  {
   "cell_type": "code",
   "execution_count": null,
   "metadata": {},
   "outputs": [],
   "source": [
    "cutt_data.sample(5)"
   ]
  },
  {
   "cell_type": "markdown",
   "metadata": {},
   "source": [
    "# Visualization "
   ]
  },
  {
   "cell_type": "code",
   "execution_count": null,
   "metadata": {},
   "outputs": [],
   "source": [
    "#let's start with something simple"
   ]
  },
  {
   "cell_type": "code",
   "execution_count": null,
   "metadata": {},
   "outputs": [],
   "source": [
    "plt.hist(df_mini['_'],bins=__, range=__, histtype='_', orientation='_', color='_');"
   ]
  },
  {
   "cell_type": "code",
   "execution_count": null,
   "metadata": {},
   "outputs": [],
   "source": [
    "plt.hist(df_mini[__],bins=__, range=__, histtype='__, orientation=___, color=__);"
   ]
  },
  {
   "cell_type": "code",
   "execution_count": null,
   "metadata": {},
   "outputs": [],
   "source": [
    "sns.scatterplot(x=df_mini['__'], y=df_mini['___']);"
   ]
  },
  {
   "cell_type": "code",
   "execution_count": null,
   "metadata": {},
   "outputs": [],
   "source": [
    "sns.scatterplot(x=df_mini['RHOZ'], y=df_mini['GR'], hue=df_mini['__']);"
   ]
  },
  {
   "cell_type": "code",
   "execution_count": null,
   "metadata": {},
   "outputs": [],
   "source": [
    "sns.relplot(data=___,\n",
    "    x=\"RHOZ\", y=\"GR\", col=\"Labels\",\n",
    "    hue=\"Labels\");"
   ]
  },
  {
   "cell_type": "code",
   "execution_count": null,
   "metadata": {},
   "outputs": [],
   "source": [
    "sns.countplot(y=df_mini['Labels']);"
   ]
  },
  {
   "cell_type": "code",
   "execution_count": null,
   "metadata": {},
   "outputs": [],
   "source": [
    "sns.set(style=\"ticks\", context=\"talk\")\n",
    "plt.style.use('___')\n",
    "g = sns.PairGrid(df_mini.iloc[:,1:], diag_sharey=False, corner=True);\n",
    "g.map_lower(sns.scatterplot);\n",
    "g.map_diag(sns.kdeplot,shade=True, shade_lowest=False);"
   ]
  },
  {
   "cell_type": "code",
   "execution_count": null,
   "metadata": {},
   "outputs": [],
   "source": [
    "#creating correlation matrix data\n",
    "corr = df_mini.corr() #exclude any string data type\n",
    "#figure parameters\n",
    "fig, ax = plt.subplots(figsize=(8,6))\n",
    "sns.heatmap(___, ax=ax, cmap=\"___\")\n",
    "#plt.grid()\n",
    "plt.show()"
   ]
  },
  {
   "cell_type": "code",
   "execution_count": null,
   "metadata": {},
   "outputs": [],
   "source": [
    "#Creating 2 tracks to plot data form this particular dataframe\n",
    "fig, axs = plt.subplots(nrows=1, ncols=2, sharey=True, squeeze=True, figsize=(15, 15), gridspec_kw={'wspace': 0.25})\n",
    "fig.subplots_adjust(left=0.05, bottom=0.05, right=0.975, top=0.7, wspace=0.5, hspace=0.2)\n",
    "axs[0].set_ylabel('Depth (ft)')\n",
    "axs[0].invert_yaxis()\n",
    "axs[0].get_xaxis().set_visible(False)\n"
   ]
  },
  {
   "cell_type": "code",
   "execution_count": null,
   "metadata": {},
   "outputs": [],
   "source": [
    "#Creating 2 tracks to plot data form this particular dataframe\n",
    "fig, axs = plt.subplots(nrows=1, ncols=2, sharey=True, squeeze=True, figsize=(15, 15), gridspec_kw={'wspace': 0.25})\n",
    "fig.subplots_adjust(left=0.05, bottom=0.05, right=0.975, top=0.7, wspace=1, hspace=0.2)\n",
    "axs[0].set_ylabel('Depth (ft)')\n",
    "axs[0].invert_yaxis()\n",
    "axs[0].get_xaxis().set_visible(False)\n",
    "\n",
    "ax1 = axs[0].twiny()  \n",
    "ax1.plot(df_mini.GR, df_mini.index, '-', color='#2ea869', linewidth=0.5)\n",
    "ax1.set_xlim(0,450) \n",
    "ax1.set_xlabel('GR (API)', color='#2ea869')\n",
    "ax1.minorticks_on()\n",
    "ax1.spines['top'].set_position(('axes', 1.0)) \n",
    "\n",
    "ax2 = axs[1].twiny() \n",
    "ax2.plot(df_mini.SP, df_mini.index, '-', color='#0a0a0a', linewidth=0.7)\n",
    "ax2.set_xlim(-200,200) \n",
    "ax2.set_xlabel('SP(mV)', color='#0a0a0a')\n",
    "ax2.minorticks_on()\n",
    "ax2.spines['top'].set_position(('axes', 1.0))  \n",
    "\n",
    "#Creating the Grid\n",
    "ax2.grid(True)\n",
    "axs[1].get_xaxis().set_visible(False)"
   ]
  },
  {
   "cell_type": "markdown",
   "metadata": {
    "iooxa": {
     "id": {
      "block": "ytvHl7fnOy1HLm624IXR",
      "project": "anKPrTxY08dBACBwy7Ui",
      "version": 1
     }
    }
   },
   "source": [
    "### Create a function that would create a layout with basic logs and core data"
   ]
  },
  {
   "cell_type": "code",
   "execution_count": null,
   "metadata": {
    "iooxa": {
     "id": {
      "block": "9mv3ARJQuI40H3MYf0FZ",
      "project": "anKPrTxY08dBACBwy7Ui",
      "version": 1
     },
     "outputId": null
    }
   },
   "outputs": [],
   "source": [
    "#Log visualization function, to be able to apply it to any set of data that has been converted to a dataFrame\n",
    "\n",
    "def make_layout_tc (log_df, cuttings_df):\n",
    "\n",
    "  \n",
    "    fig, axs = plt.subplots(nrows=1, ncols=5, sharey=True, squeeze=True, figsize=(15, 15), gridspec_kw={'wspace': 0.25})\n",
    "    fig.subplots_adjust(left=0.05, bottom=0.05, right=0.975, top=0.7, wspace=0.2, hspace=0.2)\n",
    "    axs[0].set_ylabel('Depth (ft)')\n",
    "    axs[0].invert_yaxis()\n",
    "    axs[0].get_xaxis().set_visible(False)\n",
    "    \n",
    "    # First track GR/SP logs to display\n",
    "    ax1 = axs[0].twiny()  \n",
    "    ax1.plot(log_df.GR, log_df.index, '-', color='#2ea869', linewidth=0.5)\n",
    "    ax1.set_xlim(0,450) \n",
    "    ax1.set_xlabel('GR (API)', color='#2ea869')\n",
    "    ax1.minorticks_on()\n",
    "    ax1.spines['top'].set_position(('axes', 1.075)) \n",
    "    \n",
    "    ax2 = axs[0].twiny() \n",
    "    ax2.plot(log_df.SP, log_df.index, '-', color='#0a0a0a', linewidth=0.7)\n",
    "    ax2.set_xlim(-200,200) \n",
    "    ax2.set_xlabel('SP(mV)', color='#0a0a0a')\n",
    "    ax2.minorticks_on()\n",
    "    ax2.spines['top'].set_position(('axes', 1.0))    \n",
    "    ax2.grid(True)\n",
    "    axs[0].get_xaxis().set_visible(False)\n",
    "    \n",
    "    # Second track RHOZ/NPHI logs to display\n",
    "    ax1 = axs[1].twiny()  \n",
    "    ax1.plot(log_df.RHOZ, log_df.index, '-', color='#ea0606', linewidth=0.5)\n",
    "    ax1.set_xlim(1.5,3.0) \n",
    "    ax1.set_xlabel('RHOZ (g/cm3)', color='#ea0606')\n",
    "    ax1.minorticks_on()\n",
    "    ax1.spines['top'].set_position(('axes', 1.075))\n",
    "\n",
    "    ax2 = axs[1].twiny()  \n",
    "    ax2.plot(log_df.NPHI, log_df.index, '-', color='#1577e0', linewidth=0.5)\n",
    "    ax2.set_xlim(1,0) \n",
    "    ax2.set_xlabel('NPHI (v/v)', color='#1577e0')\n",
    "    ax2.minorticks_on()\n",
    "    ax2.spines['top'].set_position(('axes', 1.0))\n",
    "    ax2.grid(True)\n",
    "    axs[1].get_xaxis().set_visible(False)\n",
    "    \n",
    "    # Third track Resistivities\n",
    "    ax1 = axs[2].twiny()  \n",
    "    ax1.plot(log_df.AT10, log_df.index, '-', color='#6e787c', linewidth=0.5)\n",
    "    ax1.set_xlim(0.1,100000)  \n",
    "    ax1.set_xlabel('AT10 (ohm.m)', color='#6e787c')\n",
    "    ax1.set_xscale('log')\n",
    "    ax1.minorticks_on()\n",
    "    ax1.spines['top'].set_position(('axes', 1.075))\n",
    "    \n",
    "    ax2 = axs[2].twiny()  \n",
    "    ax2.plot(log_df.AT90, log_df.index, '-', color='#ea0606', linewidth=0.5)\n",
    "    ax2.set_xlim(0.1,100000)  \n",
    "    ax2.set_xlabel('AT90 (ohm.m)', color='#ea0606')\n",
    "    ax2.set_xscale('log')\n",
    "    ax2.minorticks_on()\n",
    "    ax2.spines['top'].set_position(('axes', 1.0))\n",
    "    ax2.grid(True)\n",
    "    axs[2].get_xaxis().set_visible(False)\n",
    "\n",
    "\n",
    "  # Fourth track XRD to display\n",
    "    ax1 = axs[3].twiny()  \n",
    "    ax1.plot(cuttings_df.Qz, cuttings_df.index, 'o', color='#eac406')\n",
    "    ax1.set_xlim(0,50) \n",
    "    ax1.set_xlabel('Quartz %', color='#eac406')\n",
    "    ax1.minorticks_on()\n",
    "    ax1.spines['top'].set_position(('axes', 1.075))\n",
    "    \n",
    "    ax2 = axs[3].twiny()  \n",
    "    ax2.plot(cuttings_df.Illi, cuttings_df.index, 'o', color='#94898c')\n",
    "    ax2.set_xlim(0,50) \n",
    "    ax2.set_xlabel('Illite %', color='#94898c')\n",
    "    ax2.minorticks_on()\n",
    "    ax2.spines['top'].set_position(('axes', 1.0))\n",
    "    ax2.grid(True)\n",
    "    axs[3].get_xaxis().set_visible(False)\n",
    "\n",
    "\n",
    "    # Fifth track Temp/TC to display\n",
    "    ax1 = axs[4].twiny()  \n",
    "    ax1.plot(cuttings_df.TC, cuttings_df.index, 'o', color='#6e787c')\n",
    "    ax1.set_xlim(0,5) \n",
    "    ax1.set_xlabel('Matrix TC Measured W/mC', color='#6e787c')\n",
    "    ax1.minorticks_on()\n",
    "    ax1.spines['top'].set_position(('axes', 1.075))\n",
    "\n",
    "    ax2 = axs[4].twiny()  \n",
    "    ax2.plot(log_df.CTEM_C, log_df.index, '-', color='#ed8712')\n",
    "    ax2.set_xlim(20,200) \n",
    "    ax2.set_xlabel('Temp degC', color='#ed8712')\n",
    "    ax2.minorticks_on()\n",
    "    ax2.spines['top'].set_position(('axes', 1.0))\n",
    "    ax2.grid(True)\n",
    "    axs[4].get_xaxis().set_visible(False)\n",
    "         \n",
    "    fig.suptitle('Well Data for UTAH FORGE 58-32',weight='bold', fontsize=20, y=0.85);\n",
    "    plt.show()\n"
   ]
  },
  {
   "cell_type": "code",
   "execution_count": null,
   "metadata": {
    "iooxa": {
     "id": {
      "block": "J0Fjsd3Eq1wwDz69GMxG",
      "project": "anKPrTxY08dBACBwy7Ui",
      "version": 1
     },
     "outputId": {
      "block": "cITmpozD1QjaBPwgARYe",
      "project": "anKPrTxY08dBACBwy7Ui",
      "version": 1
     }
    }
   },
   "outputs": [],
   "source": [
    "#Applying the data frames, that we have created above, to the function make_layout_tc (inputs)\n",
    "make_layout_tc (log_df, cuttings_df)"
   ]
  },
  {
   "cell_type": "markdown",
   "metadata": {},
   "source": [
    "## We are Done"
   ]
  },
  {
   "cell_type": "code",
   "execution_count": null,
   "metadata": {},
   "outputs": [],
   "source": []
  }
 ],
 "metadata": {
  "iooxa": null,
  "kernelspec": {
   "display_name": "Python 3",
   "language": "python",
   "name": "python3"
  },
  "language_info": {
   "codemirror_mode": {
    "name": "ipython",
    "version": 3
   },
   "file_extension": ".py",
   "mimetype": "text/x-python",
   "name": "python",
   "nbconvert_exporter": "python",
   "pygments_lexer": "ipython3",
   "version": "3.8.5"
  }
 },
 "nbformat": 4,
 "nbformat_minor": 4
}
